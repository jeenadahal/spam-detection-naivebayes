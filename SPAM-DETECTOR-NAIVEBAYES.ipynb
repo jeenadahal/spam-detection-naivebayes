{
 "cells": [
  {
   "cell_type": "markdown",
   "id": "e8fa154d",
   "metadata": {},
   "source": [
    "# SMS Spam Detection :  Multinomial Naive Bayes"
   ]
  },
  {
   "cell_type": "markdown",
   "id": "7b959f70",
   "metadata": {},
   "source": [
    "<b> Importing libraries and dataset </b>"
   ]
  },
  {
   "cell_type": "code",
   "execution_count": 175,
   "id": "485445dd",
   "metadata": {
    "scrolled": true
   },
   "outputs": [],
   "source": [
    "#import libraries \n",
    "\n",
    "import pandas as pd\n",
    "import numpy as np\n",
    "from sklearn.model_selection import train_test_split\n",
    "from sklearn.feature_extraction.text import CountVectorizer\n",
    "from sklearn.naive_bayes import MultinomialNB\n",
    "from sklearn.metrics import accuracy_score\n",
    "from sklearn.metrics import confusion_matrix\n",
    "from sklearn.model_selection import GridSearchCV\n",
    "from sklearn.metrics import classification_report\n",
    "import matplotlib.pyplot as plt"
   ]
  },
  {
   "cell_type": "code",
   "execution_count": 176,
   "id": "dc5b0579",
   "metadata": {},
   "outputs": [
    {
     "data": {
      "text/html": [
       "<div>\n",
       "<style scoped>\n",
       "    .dataframe tbody tr th:only-of-type {\n",
       "        vertical-align: middle;\n",
       "    }\n",
       "\n",
       "    .dataframe tbody tr th {\n",
       "        vertical-align: top;\n",
       "    }\n",
       "\n",
       "    .dataframe thead th {\n",
       "        text-align: right;\n",
       "    }\n",
       "</style>\n",
       "<table border=\"1\" class=\"dataframe\">\n",
       "  <thead>\n",
       "    <tr style=\"text-align: right;\">\n",
       "      <th></th>\n",
       "      <th>Type</th>\n",
       "      <th>sms</th>\n",
       "      <th>1</th>\n",
       "      <th>2</th>\n",
       "      <th>3</th>\n",
       "    </tr>\n",
       "  </thead>\n",
       "  <tbody>\n",
       "    <tr>\n",
       "      <th>0</th>\n",
       "      <td>ham</td>\n",
       "      <td>Go until jurong point, crazy.. Available only ...</td>\n",
       "      <td>NaN</td>\n",
       "      <td>NaN</td>\n",
       "      <td>NaN</td>\n",
       "    </tr>\n",
       "    <tr>\n",
       "      <th>1</th>\n",
       "      <td>ham</td>\n",
       "      <td>Ok lar... Joking wif u oni...</td>\n",
       "      <td>NaN</td>\n",
       "      <td>NaN</td>\n",
       "      <td>NaN</td>\n",
       "    </tr>\n",
       "    <tr>\n",
       "      <th>2</th>\n",
       "      <td>spam</td>\n",
       "      <td>Free entry in 2 a wkly comp to win FA Cup fina...</td>\n",
       "      <td>NaN</td>\n",
       "      <td>NaN</td>\n",
       "      <td>NaN</td>\n",
       "    </tr>\n",
       "    <tr>\n",
       "      <th>3</th>\n",
       "      <td>ham</td>\n",
       "      <td>U dun say so early hor... U c already then say...</td>\n",
       "      <td>NaN</td>\n",
       "      <td>NaN</td>\n",
       "      <td>NaN</td>\n",
       "    </tr>\n",
       "    <tr>\n",
       "      <th>4</th>\n",
       "      <td>ham</td>\n",
       "      <td>Nah I don't think he goes to usf, he lives aro...</td>\n",
       "      <td>NaN</td>\n",
       "      <td>NaN</td>\n",
       "      <td>NaN</td>\n",
       "    </tr>\n",
       "    <tr>\n",
       "      <th>5</th>\n",
       "      <td>spam</td>\n",
       "      <td>FreeMsg Hey there darling it's been 3 week's n...</td>\n",
       "      <td>NaN</td>\n",
       "      <td>NaN</td>\n",
       "      <td>NaN</td>\n",
       "    </tr>\n",
       "    <tr>\n",
       "      <th>6</th>\n",
       "      <td>ham</td>\n",
       "      <td>Even my brother is not like to speak with me. ...</td>\n",
       "      <td>NaN</td>\n",
       "      <td>NaN</td>\n",
       "      <td>NaN</td>\n",
       "    </tr>\n",
       "    <tr>\n",
       "      <th>7</th>\n",
       "      <td>ham</td>\n",
       "      <td>As per your request 'Melle Melle (Oru Minnamin...</td>\n",
       "      <td>NaN</td>\n",
       "      <td>NaN</td>\n",
       "      <td>NaN</td>\n",
       "    </tr>\n",
       "    <tr>\n",
       "      <th>8</th>\n",
       "      <td>spam</td>\n",
       "      <td>WINNER!! As a valued network customer you have...</td>\n",
       "      <td>NaN</td>\n",
       "      <td>NaN</td>\n",
       "      <td>NaN</td>\n",
       "    </tr>\n",
       "    <tr>\n",
       "      <th>9</th>\n",
       "      <td>spam</td>\n",
       "      <td>Had your mobile 11 months or more? U R entitle...</td>\n",
       "      <td>NaN</td>\n",
       "      <td>NaN</td>\n",
       "      <td>NaN</td>\n",
       "    </tr>\n",
       "  </tbody>\n",
       "</table>\n",
       "</div>"
      ],
      "text/plain": [
       "   Type                                                sms    1    2    3\n",
       "0   ham  Go until jurong point, crazy.. Available only ...  NaN  NaN  NaN\n",
       "1   ham                      Ok lar... Joking wif u oni...  NaN  NaN  NaN\n",
       "2  spam  Free entry in 2 a wkly comp to win FA Cup fina...  NaN  NaN  NaN\n",
       "3   ham  U dun say so early hor... U c already then say...  NaN  NaN  NaN\n",
       "4   ham  Nah I don't think he goes to usf, he lives aro...  NaN  NaN  NaN\n",
       "5  spam  FreeMsg Hey there darling it's been 3 week's n...  NaN  NaN  NaN\n",
       "6   ham  Even my brother is not like to speak with me. ...  NaN  NaN  NaN\n",
       "7   ham  As per your request 'Melle Melle (Oru Minnamin...  NaN  NaN  NaN\n",
       "8  spam  WINNER!! As a valued network customer you have...  NaN  NaN  NaN\n",
       "9  spam  Had your mobile 11 months or more? U R entitle...  NaN  NaN  NaN"
      ]
     },
     "execution_count": 176,
     "metadata": {},
     "output_type": "execute_result"
    }
   ],
   "source": [
    "# import dataset and displaying first ten data\n",
    "sms_data = pd.read_csv('C:/Users/user/CW/spamdata.csv', encoding='latin-1', header=None, names=['Type', 'sms', '1','2','3'])\n",
    "sms_data.head(10)"
   ]
  },
  {
   "cell_type": "code",
   "execution_count": 177,
   "id": "0d1b426f",
   "metadata": {},
   "outputs": [
    {
     "data": {
      "text/plain": [
       "5572"
      ]
     },
     "execution_count": 177,
     "metadata": {},
     "output_type": "execute_result"
    }
   ],
   "source": [
    "#calculate rows of dataset\n",
    "len(sms_data)"
   ]
  },
  {
   "cell_type": "code",
   "execution_count": null,
   "id": "f3021ca8",
   "metadata": {},
   "outputs": [],
   "source": [
    "<b> Data pre-processing </b>"
   ]
  },
  {
   "cell_type": "code",
   "execution_count": 178,
   "id": "2c07c149",
   "metadata": {},
   "outputs": [
    {
     "name": "stdout",
     "output_type": "stream",
     "text": [
      "Null values present in the file\n"
     ]
    }
   ],
   "source": [
    "# boolean mask with same shape as dataset and is true wherever sms_data contains a null value\n",
    "null_mask = sms_data.isnull()\n",
    "\n",
    "# Check if any null values are present\n",
    "if null_mask.any().any():\n",
    "    print(\"Null values present in the file\")\n",
    "else:\n",
    "    print(\"No null values present in the file\")"
   ]
  },
  {
   "cell_type": "code",
   "execution_count": 179,
   "id": "69ca1609",
   "metadata": {},
   "outputs": [
    {
     "data": {
      "text/html": [
       "<div>\n",
       "<style scoped>\n",
       "    .dataframe tbody tr th:only-of-type {\n",
       "        vertical-align: middle;\n",
       "    }\n",
       "\n",
       "    .dataframe tbody tr th {\n",
       "        vertical-align: top;\n",
       "    }\n",
       "\n",
       "    .dataframe thead th {\n",
       "        text-align: right;\n",
       "    }\n",
       "</style>\n",
       "<table border=\"1\" class=\"dataframe\">\n",
       "  <thead>\n",
       "    <tr style=\"text-align: right;\">\n",
       "      <th></th>\n",
       "      <th>Type</th>\n",
       "      <th>sms</th>\n",
       "    </tr>\n",
       "  </thead>\n",
       "  <tbody>\n",
       "    <tr>\n",
       "      <th>0</th>\n",
       "      <td>ham</td>\n",
       "      <td>Go until jurong point, crazy.. Available only ...</td>\n",
       "    </tr>\n",
       "    <tr>\n",
       "      <th>1</th>\n",
       "      <td>ham</td>\n",
       "      <td>Ok lar... Joking wif u oni...</td>\n",
       "    </tr>\n",
       "    <tr>\n",
       "      <th>2</th>\n",
       "      <td>spam</td>\n",
       "      <td>Free entry in 2 a wkly comp to win FA Cup fina...</td>\n",
       "    </tr>\n",
       "    <tr>\n",
       "      <th>3</th>\n",
       "      <td>ham</td>\n",
       "      <td>U dun say so early hor... U c already then say...</td>\n",
       "    </tr>\n",
       "    <tr>\n",
       "      <th>4</th>\n",
       "      <td>ham</td>\n",
       "      <td>Nah I don't think he goes to usf, he lives aro...</td>\n",
       "    </tr>\n",
       "  </tbody>\n",
       "</table>\n",
       "</div>"
      ],
      "text/plain": [
       "   Type                                                sms\n",
       "0   ham  Go until jurong point, crazy.. Available only ...\n",
       "1   ham                      Ok lar... Joking wif u oni...\n",
       "2  spam  Free entry in 2 a wkly comp to win FA Cup fina...\n",
       "3   ham  U dun say so early hor... U c already then say...\n",
       "4   ham  Nah I don't think he goes to usf, he lives aro..."
      ]
     },
     "execution_count": 179,
     "metadata": {},
     "output_type": "execute_result"
    }
   ],
   "source": [
    "#drop column 1, 2 and 3\n",
    "sms_data = sms_data.drop([\"1\", \"2\", \"3\"], axis=1)\n",
    "\n",
    "sms_data.head()"
   ]
  },
  {
   "cell_type": "code",
   "execution_count": 180,
   "id": "4ddcca7d",
   "metadata": {},
   "outputs": [
    {
     "name": "stdout",
     "output_type": "stream",
     "text": [
      "No null values present in the file\n"
     ]
    }
   ],
   "source": [
    "null_mask = sms_data.isnull()\n",
    "\n",
    "# Check if any null values are present\n",
    "if null_mask.any().any():\n",
    "    print(\"Null values present in the file\")\n",
    "else:\n",
    "    print(\"No null values present in the file\")"
   ]
  },
  {
   "cell_type": "code",
   "execution_count": 181,
   "id": "5229dbf5",
   "metadata": {},
   "outputs": [
    {
     "name": "stdout",
     "output_type": "stream",
     "text": [
      "duplicate data present in the file\n"
     ]
    }
   ],
   "source": [
    "# Check for duplicate rows\n",
    "duplicate_mask = sms_data.duplicated()\n",
    "\n",
    "# Check if any null values are present\n",
    "if duplicate_mask.any().any():\n",
    "    print(\"duplicate data present in the file\")\n",
    "else:\n",
    "    print(\"duplicate data not present in the file\")"
   ]
  },
  {
   "cell_type": "code",
   "execution_count": 182,
   "id": "bc3f6989",
   "metadata": {},
   "outputs": [
    {
     "name": "stdout",
     "output_type": "stream",
     "text": [
      "Number of duplicate rows: 403\n"
     ]
    }
   ],
   "source": [
    "# Count the number of duplicate rows\n",
    "num_duplicates = duplicate_mask.sum()\n",
    "\n",
    "# Print the number of duplicate rows\n",
    "print(f'Number of duplicate rows: {num_duplicates}')"
   ]
  },
  {
   "cell_type": "code",
   "execution_count": 183,
   "id": "2ce7fbde",
   "metadata": {},
   "outputs": [
    {
     "name": "stdout",
     "output_type": "stream",
     "text": [
      "      Type                                                sms\n",
      "102    ham  As per your request 'Melle Melle (Oru Minnamin...\n",
      "153    ham  As per your request 'Melle Melle (Oru Minnamin...\n",
      "206    ham  As I entered my cabin my PA said, '' Happy B'd...\n",
      "222    ham                             Sorry, I'll call later\n",
      "325    ham                   No calls..messages..missed calls\n",
      "...    ...                                                ...\n",
      "5524  spam  You are awarded a SiPix Digital Camera! call 0...\n",
      "5535   ham  I know you are thinkin malaria. But relax, chi...\n",
      "5539   ham                         Just sleeping..and surfing\n",
      "5553   ham                        Hahaha..use your brain dear\n",
      "5558   ham                             Sorry, I'll call later\n",
      "\n",
      "[403 rows x 2 columns]\n"
     ]
    }
   ],
   "source": [
    "# Check for duplicate rows in the 'sms' column\n",
    "duplicate_mask = sms_data.duplicated(subset='sms')\n",
    "\n",
    "# Print the duplicate rows\n",
    "print(sms_data[duplicate_mask])"
   ]
  },
  {
   "cell_type": "code",
   "execution_count": 184,
   "id": "06c13994",
   "metadata": {},
   "outputs": [
    {
     "name": "stdout",
     "output_type": "stream",
     "text": [
      "Number of rows in the DataFrame: 5169\n"
     ]
    }
   ],
   "source": [
    "# Remove the duplicate rows\n",
    "sms_data = sms_data.drop_duplicates()\n",
    "\n",
    "# Print the number of rows in the resulting DataFrame\n",
    "print(f'Number of rows in the DataFrame: {sms_data.shape[0]}')"
   ]
  },
  {
   "cell_type": "code",
   "execution_count": 185,
   "id": "95cd98ca",
   "metadata": {
    "scrolled": false
   },
   "outputs": [
    {
     "name": "stdout",
     "output_type": "stream",
     "text": [
      "ham     4516\n",
      "spam     653\n",
      "Name: Type, dtype: int64\n"
     ]
    }
   ],
   "source": [
    "# counting spam and ham instances\n",
    "class_counts = sms_data['Type'].value_counts()\n",
    "print(class_counts)"
   ]
  },
  {
   "cell_type": "code",
   "execution_count": 186,
   "id": "76cb5fc5",
   "metadata": {},
   "outputs": [],
   "source": [
    "# Select the spam examples\n",
    "spam = sms_data[sms_data['Type'] == 'spam'].sample(653)\n",
    "# Select the ham examples\n",
    "ham = sms_data[sms_data['Type'] == 'ham'].sample(653)\n",
    "\n",
    "# Concatenate the spam and ham examples into a single dataframe\n",
    "subset = pd.concat([spam, ham])"
   ]
  },
  {
   "cell_type": "code",
   "execution_count": 187,
   "id": "51e0fbe9",
   "metadata": {},
   "outputs": [
    {
     "data": {
      "text/plain": [
       "1306"
      ]
     },
     "execution_count": 187,
     "metadata": {},
     "output_type": "execute_result"
    }
   ],
   "source": [
    "# total number of SMS\n",
    "len(subset)"
   ]
  },
  {
   "cell_type": "code",
   "execution_count": 188,
   "id": "88ad902b",
   "metadata": {},
   "outputs": [
    {
     "name": "stdout",
     "output_type": "stream",
     "text": [
      "spam    653\n",
      "ham     653\n",
      "Name: Type, dtype: int64\n"
     ]
    }
   ],
   "source": [
    "# counting spam and ham instances\n",
    "class_counts = subset['Type'].value_counts()\n",
    "print(class_counts)"
   ]
  },
  {
   "cell_type": "code",
   "execution_count": 189,
   "id": "98c6c9c3",
   "metadata": {},
   "outputs": [
    {
     "name": "stdout",
     "output_type": "stream",
     "text": [
      "Spam rate is about 50.0%\n"
     ]
    }
   ],
   "source": [
    "# calculate the rate of spam messages as a percentage of all messages\n",
    "spam_rate = round((class_counts['spam']/float(class_counts['ham']+class_counts['spam']))*100, 2)\n",
    "\n",
    "# Print the spam rate\n",
    "print(\"Spam rate is about {0}%\".format(spam_rate))"
   ]
  },
  {
   "cell_type": "code",
   "execution_count": 190,
   "id": "fe2ce089",
   "metadata": {
    "scrolled": true
   },
   "outputs": [
    {
     "name": "stdout",
     "output_type": "stream",
     "text": [
      "Ham rate is about 50.0%\n"
     ]
    }
   ],
   "source": [
    "ham_rate = round((class_counts['ham']/float(class_counts['ham']+class_counts['spam']))*100, 2)\n",
    "# Print the spam rate\n",
    "print(\"Ham rate is about {0}%\".format(ham_rate))"
   ]
  },
  {
   "cell_type": "code",
   "execution_count": 191,
   "id": "15bda657",
   "metadata": {},
   "outputs": [
    {
     "data": {
      "text/html": [
       "<div>\n",
       "<style scoped>\n",
       "    .dataframe tbody tr th:only-of-type {\n",
       "        vertical-align: middle;\n",
       "    }\n",
       "\n",
       "    .dataframe tbody tr th {\n",
       "        vertical-align: top;\n",
       "    }\n",
       "\n",
       "    .dataframe thead th {\n",
       "        text-align: right;\n",
       "    }\n",
       "</style>\n",
       "<table border=\"1\" class=\"dataframe\">\n",
       "  <thead>\n",
       "    <tr style=\"text-align: right;\">\n",
       "      <th></th>\n",
       "      <th>Type</th>\n",
       "      <th>sms</th>\n",
       "    </tr>\n",
       "  </thead>\n",
       "  <tbody>\n",
       "    <tr>\n",
       "      <th>672</th>\n",
       "      <td>spam</td>\n",
       "      <td>Get ur 1st RINGTONE FREE NOW! Reply to this ms...</td>\n",
       "    </tr>\n",
       "    <tr>\n",
       "      <th>1104</th>\n",
       "      <td>spam</td>\n",
       "      <td>Message Important information for O2 user. Tod...</td>\n",
       "    </tr>\n",
       "    <tr>\n",
       "      <th>4110</th>\n",
       "      <td>spam</td>\n",
       "      <td>URGENT! Your Mobile number has been awarded a ...</td>\n",
       "    </tr>\n",
       "    <tr>\n",
       "      <th>2429</th>\n",
       "      <td>spam</td>\n",
       "      <td>Guess who am I?This is the first time I create...</td>\n",
       "    </tr>\n",
       "    <tr>\n",
       "      <th>3419</th>\n",
       "      <td>spam</td>\n",
       "      <td>As a valued customer, I am pleased to advise y...</td>\n",
       "    </tr>\n",
       "  </tbody>\n",
       "</table>\n",
       "</div>"
      ],
      "text/plain": [
       "      Type                                                sms\n",
       "672   spam  Get ur 1st RINGTONE FREE NOW! Reply to this ms...\n",
       "1104  spam  Message Important information for O2 user. Tod...\n",
       "4110  spam  URGENT! Your Mobile number has been awarded a ...\n",
       "2429  spam  Guess who am I?This is the first time I create...\n",
       "3419  spam  As a valued customer, I am pleased to advise y..."
      ]
     },
     "execution_count": 191,
     "metadata": {},
     "output_type": "execute_result"
    }
   ],
   "source": [
    "subset.head()"
   ]
  },
  {
   "cell_type": "code",
   "execution_count": 192,
   "id": "426244e7",
   "metadata": {
    "scrolled": true
   },
   "outputs": [],
   "source": [
    "# Create a new 'label' column in the equal_subset DataFrame\n",
    "subset['label'] = subset['Type'].map({'ham': 0, 'spam': 1})"
   ]
  },
  {
   "cell_type": "code",
   "execution_count": 193,
   "id": "fed7682c",
   "metadata": {
    "scrolled": false
   },
   "outputs": [
    {
     "data": {
      "text/html": [
       "<div>\n",
       "<style scoped>\n",
       "    .dataframe tbody tr th:only-of-type {\n",
       "        vertical-align: middle;\n",
       "    }\n",
       "\n",
       "    .dataframe tbody tr th {\n",
       "        vertical-align: top;\n",
       "    }\n",
       "\n",
       "    .dataframe thead th {\n",
       "        text-align: right;\n",
       "    }\n",
       "</style>\n",
       "<table border=\"1\" class=\"dataframe\">\n",
       "  <thead>\n",
       "    <tr style=\"text-align: right;\">\n",
       "      <th></th>\n",
       "      <th>sms</th>\n",
       "      <th>label</th>\n",
       "    </tr>\n",
       "  </thead>\n",
       "  <tbody>\n",
       "    <tr>\n",
       "      <th>672</th>\n",
       "      <td>Get ur 1st RINGTONE FREE NOW! Reply to this ms...</td>\n",
       "      <td>1</td>\n",
       "    </tr>\n",
       "    <tr>\n",
       "      <th>1104</th>\n",
       "      <td>Message Important information for O2 user. Tod...</td>\n",
       "      <td>1</td>\n",
       "    </tr>\n",
       "    <tr>\n",
       "      <th>4110</th>\n",
       "      <td>URGENT! Your Mobile number has been awarded a ...</td>\n",
       "      <td>1</td>\n",
       "    </tr>\n",
       "    <tr>\n",
       "      <th>2429</th>\n",
       "      <td>Guess who am I?This is the first time I create...</td>\n",
       "      <td>1</td>\n",
       "    </tr>\n",
       "    <tr>\n",
       "      <th>3419</th>\n",
       "      <td>As a valued customer, I am pleased to advise y...</td>\n",
       "      <td>1</td>\n",
       "    </tr>\n",
       "  </tbody>\n",
       "</table>\n",
       "</div>"
      ],
      "text/plain": [
       "                                                    sms  label\n",
       "672   Get ur 1st RINGTONE FREE NOW! Reply to this ms...      1\n",
       "1104  Message Important information for O2 user. Tod...      1\n",
       "4110  URGENT! Your Mobile number has been awarded a ...      1\n",
       "2429  Guess who am I?This is the first time I create...      1\n",
       "3419  As a valued customer, I am pleased to advise y...      1"
      ]
     },
     "execution_count": 193,
     "metadata": {},
     "output_type": "execute_result"
    }
   ],
   "source": [
    "# Drop the 'Class' column from the equal_subset DataFrame\n",
    "subset = subset.drop('Type', axis=1)\n",
    "\n",
    "# View the updated DataFrame\n",
    "subset.head()"
   ]
  },
  {
   "cell_type": "code",
   "execution_count": 194,
   "id": "d70a3683",
   "metadata": {},
   "outputs": [
    {
     "name": "stdout",
     "output_type": "stream",
     "text": [
      "(1306,)\n",
      "(1306,)\n"
     ]
    }
   ],
   "source": [
    "# Assign the values in the \"sms\" column of the DataFrame to the variable X\n",
    "X = subset.sms\n",
    "\n",
    "# Assign the values in the \"label\" column of the DataFrame to the variable Y\n",
    "Y = subset.label\n",
    "\n",
    "# Print the shape of X\n",
    "\n",
    "print(X.shape)\n",
    "print(Y.shape)"
   ]
  },
  {
   "cell_type": "code",
   "execution_count": null,
   "id": "b10c4a37",
   "metadata": {},
   "outputs": [],
   "source": [
    "<b> Split train and test dataset </b>"
   ]
  },
  {
   "cell_type": "code",
   "execution_count": 195,
   "id": "9ce152e1",
   "metadata": {
    "scrolled": true
   },
   "outputs": [],
   "source": [
    "# Split the equal_subset dataset into training and test sets\n",
    "X_train, X_test, Y_train, Y_test = train_test_split(subset['sms'], subset['label'], test_size=0.2, random_state=1)"
   ]
  },
  {
   "cell_type": "code",
   "execution_count": 196,
   "id": "8ee53532",
   "metadata": {
    "scrolled": true
   },
   "outputs": [
    {
     "data": {
      "text/plain": [
       "2023    Is there any movie theatre i can go to and wat...\n",
       "834                            Surely result will offer:)\n",
       "4929    Hi, the SEXYCHAT girls are waiting for you to ...\n",
       "4408    For your chance to WIN a FREE Bluetooth Headse...\n",
       "1572    Ur cash-balance is currently 500 pounds - to m...\n",
       "Name: sms, dtype: object"
      ]
     },
     "execution_count": 196,
     "metadata": {},
     "output_type": "execute_result"
    }
   ],
   "source": [
    "X_train.head()"
   ]
  },
  {
   "cell_type": "code",
   "execution_count": 197,
   "id": "309be14f",
   "metadata": {},
   "outputs": [
    {
     "data": {
      "text/plain": [
       "2023    0\n",
       "834     0\n",
       "4929    1\n",
       "4408    1\n",
       "1572    1\n",
       "Name: label, dtype: int64"
      ]
     },
     "execution_count": 197,
     "metadata": {},
     "output_type": "execute_result"
    }
   ],
   "source": [
    "Y_train.head()"
   ]
  },
  {
   "cell_type": "code",
   "execution_count": 198,
   "id": "33779bde",
   "metadata": {},
   "outputs": [
    {
     "data": {
      "text/plain": [
       "3228    Ur cash-balance is currently 500 pounds - to m...\n",
       "3249                             Babe, I need your advice\n",
       "3904    Do you want a new video handset? 750 anytime a...\n",
       "3968    Thanks for your message. I really appreciate y...\n",
       "4072                 Was the actual exam harder than NBME\n",
       "Name: sms, dtype: object"
      ]
     },
     "execution_count": 198,
     "metadata": {},
     "output_type": "execute_result"
    }
   ],
   "source": [
    "X_test.head()"
   ]
  },
  {
   "cell_type": "code",
   "execution_count": 199,
   "id": "39cb3656",
   "metadata": {
    "scrolled": true
   },
   "outputs": [
    {
     "data": {
      "text/plain": [
       "3228    1\n",
       "3249    0\n",
       "3904    1\n",
       "3968    0\n",
       "4072    0\n",
       "Name: label, dtype: int64"
      ]
     },
     "execution_count": 199,
     "metadata": {},
     "output_type": "execute_result"
    }
   ],
   "source": [
    "Y_test.head()"
   ]
  },
  {
   "cell_type": "code",
   "execution_count": 200,
   "id": "8dc50090",
   "metadata": {
    "scrolled": false
   },
   "outputs": [
    {
     "name": "stdout",
     "output_type": "stream",
     "text": [
      "Spam: 50.47892720306513%\n",
      "Ham: 49.52107279693487%\n"
     ]
    }
   ],
   "source": [
    "num_total = len(Y_train)\n",
    "num_spam = sum(Y_train)  # Count the number of 1s in the array\n",
    "num_ham = num_total - num_spam\n",
    "pct_spam = 100 * num_spam / num_total\n",
    "pct_ham = 100 * num_ham / num_total\n",
    "print(f'Spam: {pct_spam}%')\n",
    "print(f'Ham: {pct_ham}%')"
   ]
  },
  {
   "cell_type": "code",
   "execution_count": null,
   "id": "c866a4d8",
   "metadata": {},
   "outputs": [],
   "source": [
    "<b> Tokenization and vectorization </b>"
   ]
  },
  {
   "cell_type": "code",
   "execution_count": 201,
   "id": "9a5c016c",
   "metadata": {},
   "outputs": [],
   "source": [
    "# Get the 'sms' column from the equal_subset DataFrame\n",
    "sentences = subset['sms']\n",
    "\n",
    "# Create an instance of the CountVectorizer class, specifying the stop_words parameter\n",
    "vectorizer = CountVectorizer(stop_words='english')"
   ]
  },
  {
   "cell_type": "code",
   "execution_count": 202,
   "id": "1deba2da",
   "metadata": {},
   "outputs": [
    {
     "name": "stdout",
     "output_type": "stream",
     "text": [
      "{'movie': 2217, 'theatre': 3121, 'watch': 3377, 'unlimited': 3277, 'movies': 2218, 'just': 1897, 'pay': 2410, 'surely': 3046, 'result': 2680, 'offer': 2337, 'hi': 1724, 'sexychat': 2809, 'girls': 1617, 'waiting': 3358, 'text': 3105, 'great': 1657, 'night': 2290, 'chatting': 1047, 'send': 2790, 'stop': 2982, 'service': 2798, 'chance': 1029, 'win': 3418, 'free': 1552, 'bluetooth': 888, 'headset': 1704, 'simply': 2846, 'reply': 2660, 'adp': 685, 'ur': 3291, 'cash': 1009, 'balance': 816, 'currently': 1208, '500': 462, 'pounds': 2512, 'maximize': 2119, '86688': 594, '150p': 288, 'msg': 2223, 'cc': 1018, '08718720201': 133, 'hg': 1723, 'suite342': 3029, '2lands': 360, 'row': 2712, 'w1j6hl': 3350, 'want': 3367, 'funk': 1574, 'fone': 1533, 'weekly': 3397, 'new': 2284, 'tone': 3171, 'tones2u': 3173, 'www': 3466, 'ringtones': 2699, 'uk': 3257, 'original': 2377, 'best': 857, 'tones': 3172, '3gbp': 410, 'network': 2280, 'operator': 2362, 'rates': 2599, 'apply': 752, 'saying': 2753, 'welp': 3403, 'bec': 842, 'temple': 3092, 'na': 2253, 'filthy': 1496, 'stories': 2993, 'cock': 1106, 'hubby': 1774, 'away': 796, 'need': 2272, 'real': 2612, 'man': 2094, 'satisfy': 2746, 'txt': 3240, 'wife': 3414, '89938': 622, 'strings': 3000, 'action': 668, 'end': 1389, 'rec': 2619, '50ea': 466, 'otbox': 2380, '731': 527, 'la1': 1934, '7ws': 543, 'got': 1643, 'takes': 3065, 'wrc': 3459, 'rally': 2594, 'oz': 2386, 'lucozade': 2063, 'energy': 1392, 'le': 1966, '61200': 493, '25p': 342, 'packs': 2389, 'itcould': 1855, 'yupz': 3511, 've': 3317, 'oredi': 2372, 'booked': 894, 'slots': 2875, 'weekends': 3396, 'liao': 1984, 'good': 1638, 'û_': 3520, 'll': 2014, 'phone': 2431, 'tomo': 3169, 'lunchtime': 2066, 'shall': 2815, 'organise': 2375, 'oh': 2344, 'grand': 1652, 'having': 1701, 'bit': 871, 'party': 2401, 'doesn': 1306, 'mention': 2143, 'cover': 1178, 'charge': 1035, 'probably': 2542, 'come': 1120, 'served': 2796, 'resume': 2682, 'tarot': 3073, 'texts': 3112, 'love': 2048, 'life': 1989, 'try': 3219, '85555': 590, '16': 299, 'msgs': 2228, '50': 461, 'winner': 3422, 'specially': 2931, 'selected': 2784, 'receive': 2622, '1000': 246, 'holiday': 1743, 'flights': 1515, 'speak': 2929, 'live': 2010, 'claim': 1083, '0871277810910p': 111, 'min': 2161, '18': 303, 'textbuddy': 3107, 'chat': 1043, 'horny': 1754, 'guys': 1676, 'area': 760, 'search': 2769, 'postcode': 2506, 'gaytextbuddy': 1590, 'com': 1117, '89693': 621, 'way': 3382, 'going': 1632, 'time': 3147, 'wrkin': 3461, 'thought': 3138, 'cos': 1167, 'thats': 3120, 'kind': 1918, 'thing': 3127, 'get4an18th': 1606, 'loves': 2052, 'january': 1869, 'male': 2093, 'sale': 2737, 'hot': 1757, 'gay': 1589, 'cheaper': 1049, '08709222922': 89, 'national': 2267, 'rate': 2598, '5p': 483, 'cheap': 1048, '8p': 623, 'peak': 2413, '08712460324': 108, '10p': 254, 'someonone': 2905, 'know': 1928, 'trying': 3220, 'contact': 1155, 'dating': 1235, 'mobile': 2189, 'landline': 1942, '09064015307': 202, 'box334sk38ch': 912, 'chosen': 1075, '350': 398, 'award': 794, 'pls': 2467, 'number': 2325, '09066364311': 220, 'collect': 1113, 'valued': 3312, 'customer': 1212, 'ringtone': 2697, 'collected': 1114, 'password': 2405, 'mix': 2178, '85069': 586, 'verify': 3318, 'usher': 3303, 'britney': 939, 'fml': 1526, '74355': 528, 'xmas': 3473, 'iscoming': 1849, 'awarded': 795, 'cd': 1020, 'gift': 1613, 'vouchers': 3343, 'entry': 1405, '100': 245, 'draw': 1335, 'music': 2246, '87066': 597, 'tnc': 3160, 'happened': 1690, 'yo': 3502, 'date': 1232, 'reality': 2615, 'fantasy': 1465, '08707509020': 86, '20p': 327, 'ntt': 2323, 'po': 2472, 'box': 907, '1327': 277, 'croydon': 1193, 'cr9': 1182, '5wb': 484, '0870': 67, 'don': 1316, 'worry': 3454, 'easy': 1365, 'ingredients': 1823, 'sorry': 2914, 'mail': 2087, 'gonna': 1636, 'blake': 877, 'able': 646, 'little': 2009, 'early': 1359, 'ela': 1380, 'kano': 1904, 'il': 1797, 'download': 1329, 'wen': 3404, 'stay': 2970, '250': 340, 'british': 938, 'hotels': 1759, 'dial': 1273, '08712300220': 95, 'bx526': 966, 'sw73ss': 3052, 'hey': 1721, 'elaine': 1381, 'today': 3165, 'meeting': 2133, 'expect': 1431, 'hope': 1750, 'goes': 1630, 'omg': 2354, 'cat': 1014, 'worms': 3452, 'does': 1305, 'bad': 812, 'day': 1237, 'private': 2536, '2003': 319, 'account': 661, 'statement': 2968, '07973788240': 41, 'shows': 2830, '800': 545, 'redeemed': 2631, 'points': 2488, '08715203649': 120, 'identifier': 1792, 'code': 1107, '40533': 427, 'expires': 1436, '31': 388, '10': 244, '04': 13, 'week': 3394, 'starting': 2965, 'word': 3445, 'tscs': 3223, 'idew': 1793, 'skillgame': 2860, '1winaweek': 313, 'age16': 698, '150ppermesssubscription': 291, '08702490080': 79, 'tells': 3091, '09066358152': 216, '5000': 463, 'prize': 2537, 'enter': 1399, 'personal': 2425, 'details': 1270, 'prompts': 2556, 'careful': 1002, 'email': 1384, 'address': 679, 'changed': 1032, 'haha': 1681, 'kidding': 1916, 'papa': 2394, 'needs': 2274, 'drugs': 1348, 'set': 2801, 'place': 2456, 'heart': 1708, 'mind': 2163, 'easily': 1361, 'forgets': 1540, 'remember': 2645, 'wish': 3427, 'happy': 1691, 'valentines': 3309, 'desperate': 1269, 'armand': 766, 'fuck': 1569, 'babe': 805, 'came': 988, 'message': 2147, '08715205273': 122, 'haven': 1698, 'seen': 2782, 'facebook': 1451, 'huh': 1777, 'lol': 2028, 'won': 3440, 'guaranteed': 1668, '2000': 318, 'yr': 3507, 'representative': 2664, 'im': 1799, 'gonnamissu': 1637, 'say': 2752, 'postcard': 2505, 'buttheres': 961, 'aboutas': 647, 'merememberin': 2145, 'asthere': 783, 'ofsi': 2342, 'breakin': 933, 'contract': 1158, 'luv': 2068, 'yaxx': 3489, 'nokia': 2300, '3510i': 399, 'colour': 1116, 'deliveredtomorrow': 1260, '300': 380, 'minutes': 2173, 'camcorder': 987, '08000930705': 48, 'latest': 1954, 'news': 2286, 'police': 2490, 'station': 2969, 'toilet': 3167, 'stolen': 2981, 'cops': 1162, '08718738001': 145, '49557': 448, '26': 343, '11': 257, '400': 422, 'reward': 2689, 'computer': 1138, 'randomly': 2596, 'picked': 2439, 'loyal': 2055, 'customers': 1214, '09066380611': 225, 'welcome': 3402, 'improved': 1807, 'sex': 2804, 'dogging': 1310, 'club': 1098, 'unsubscribe': 3280, 'registered': 2640, 'subscriber': 3017, 'voucher': 3342, 'entered': 1400, 'receipt': 2621, 'correct': 1165, 'ans': 737, 'olympics': 2353, '80062': 547, 'themob': 3124, 'hit': 1729, 'link': 2001, 'premium': 2520, 'pink': 2452, 'panther': 2393, 'game': 1582, 'sugababes': 3025, 'crazy': 1184, 'zebra': 3513, 'animation': 732, 'badass': 813, 'hoody': 1749, 'wallpaper': 3361, 'fancies': 1460, '09058097218': 181, 'pobox': 2473, 'ls15hb': 2058, 'ho': 1739, 'big': 863, 'belly': 853, 'laugh': 1956, 'ya': 3484, 'congratulations': 1149, 'thanks': 3116, 'friend': 1561, '000': 1, '08718726971': 139, 'minute': 2172, 'bt': 947, 'urgent': 3294, 'todays': 3166, '09050003091': 165, 'land': 1941, 'line': 1997, 'c52': 968, 'valid': 3310, '12hrs': 275, '900': 627, '09061701939': 191, 's89': 2730, 'annoncement': 733, 'years': 3493, 'delivery': 1261, '07046744435': 21, 'arrange': 768, 'luton': 2067, '0125698789': 6, 'ring': 2694, 'video': 3321, 'camera': 989, 'phones': 2433, 'half': 1685, 'price': 2530, 'rental': 2655, '12': 265, 'mths': 2232, 'cross': 1192, 'ntwk': 2324, 'mins': 2171, 'txts': 3246, 'mobileupd8': 2193, '08001950382': 50, 'call2optout': 974, '674': 501, 'sure': 3045, 'mean': 2126, 'talk': 3068, 'sexy': 2808, 'make': 2090, 'friends': 1562, 'fall': 1456, 'worlds': 3451, 'discreet': 1294, 'vip': 3327, '83110': 570, 'meet': 2131, 'company': 1130, 'environment': 1408, 'terrific': 3099, 'food': 1535, 'really': 2616, 'nice': 2287, 'faith': 1455, 'makes': 2091, 'things': 3128, 'possible': 2503, 'work': 3447, 'beautiful': 840, 'christmas': 1077, 'merry': 2146, 'mob': 2187, 'nok': 2299, '87021': 596, '1st': 310, 'txtin': 3243, 'tell': 3090, 'hl': 1732, '4info': 452, 'money': 2204, 'aint': 708, 'sha': 2811, 'getting': 1610, 'aiyah': 711, 'ok': 2347, 'wat': 3376, 'long': 2032, 'improve': 1806, 'sent': 2793, 'jd': 1874, 'cum': 1203, 'accounts': 662, 'executive': 1428, 'id': 1791, 'hahaha': 1682, 'use': 3298, 'brain': 925, 'dear': 1246, 'hiya': 1731, 'spoken': 2944, 'weekend': 3395, 'hungry': 1780, 'feeling': 1479, '08718730555': 144, 'ì_': 3518, 'copy': 1163, 'da': 1221, 'report': 2663, '150': 286, 'worth': 3456, 'discount': 1293, 'yes': 3496, '85023': 585, 'savamob': 2749, 'member': 2138, 'offers': 2339, 'cs': 1196, '08717898035': 131, '00': 0, 'sub': 3009, 'remove': 2649, 'tncs': 3161, 'ldew': 1963, 'com1win150ppmx3age16': 1118, 'far': 1466, 'spun': 2953, 'spk': 2939, 'mo': 2185, 'dead': 1242, 'wrld': 3462, 'sleeping': 2869, 'sofa': 2900, 'double': 1326, 'orange': 2368, 'tariffs': 3072, '08000839402': 47, '2stoptxt': 374, 'super': 3036, 'nalla': 2255, 'timing': 3149, 'polyphonic': 2495, '087018728737': 77, 'toppoly': 3183, 'tune': 3233, 'subpoly': 3011, '81618': 562, 'pole': 2489, 'unsub': 3279, '08718727870': 142, 'yup': 3510, 'leaving': 1971, 'right': 2693, 'soon': 2910, 'lookin': 2036, 'saucy': 2748, 'daytime': 1239, 'fun': 1571, 'wiv': 3430, 'busty': 959, 'married': 2103, 'woman': 3438, 'sort': 2915, '09099726429': 238, 'janinexx': 1868, 'callså': 985, 'minmobsmorelkpobox177hp51fl': 2168, 'order': 2370, 'reference': 2634, 'x29': 3468, 'charged': 1036, 'arrive': 769, 'services': 2799, '09065989180': 213, 'oops': 2360, 'people': 2418, '09090204448': 231, 'join': 1884, 'like': 1994, 'minded': 2164, 'evening': 1420, 'aå': 800, 'minapn': 2162, 'ls278bb': 2059, 'months': 2208, 'entitled': 1403, 'update': 3283, 'mobiles': 2190, '08002986030': 52, 'chikku': 1060, '09061213237': 186, 'luxury': 2070, 'canary': 991, 'islands': 1851, 'await': 792, 'collection': 1115, 'sae': 2733, '177': 302, 'm227xy': 2073, '150ppm': 292, 'okay': 2348, 'wait': 3357, 'ah': 704, 'think': 3129, 'office': 2340, 'lap': 1945, 'room': 2709, 'days': 1238, 'didnt': 1277, 'shut': 2833, 'did': 1275, 'forwarded': 1547, '21870000': 329, 'mailbox': 2088, 'messaging': 2149, 'sms': 2892, 'alert': 717, 'messages': 2148, '21': 328, 'matches': 2110, '09056242159': 170, 'retrieve': 2683, '8007': 548, 'no1': 2296, 'txting': 3244, 'mates': 2111, 'getzed': 1611, '36504': 401, 'w4': 3352, '5wq': 487, 'norm': 2309, '2004': 320, '078498': 38, '786': 537, 'unredeemed': 3278, 'bonus': 892, '08719180219': 148, '45239': 442, '06': 18, '05': 15, 'whos': 3409, '09061743810': 193, 'abta': 650, 'complimentary': 1137, 'tenerife': 3094, '326': 395, 'cw25wx': 1219, 'ppm': 2513, 'fancy': 1461, 'shag': 2813, 'interested': 1834, 'sextextuk': 2806, 'xxuk': 3477, 'suzy': 3049, '69876': 511, 'cost': 1168, 'website': 3390, 'meds': 2130, 'hours': 1764, 'pain': 2392, 'took': 3179, 'die': 1278, 'auction': 786, 'round': 2711, 'highest': 1726, 'bid': 861, '54': 478, 'maximum': 2120, '71': 524, 'bids': 862, '83383': 574, 'luck': 2061, 'holder': 1742, 'weeks': 3398, 'pc': 2412, 'http': 1772, 'tlp': 3156, 'expressoffer': 1440, 'ts': 3221, 'pretty': 2527, 'lady': 1939, 'single': 2849, 'important': 1804, 'information': 1821, 'user': 3300, '0796xxxxxx': 40, 'lucky': 2062, 'log': 2025, 'urawinner': 3292, 'fantastic': 1464, 'prizeawaiting': 2538, 'santa': 2740, 'calling': 982, 'ones': 2356, 'eve': 1419, '09077818151': 230, 'book': 893, 'calls1': 984, '50ppm': 472, '3mins': 413, '30s': 386, 'santacalling': 2741, 'loud': 2046, 'spontaneously': 2945, 'dont': 1318, 'care': 999, 'feel': 1477, 'amp': 729, 'goodevening': 1639, 'trip': 3209, 'eurodisinc': 1417, 'trav': 3202, 'aco': 666, 'entry41': 1406, 'dis': 1291, '87121': 599, 'morefrmmob': 2211, 'shracomorsglsuplt': 2831, 'ls1': 2057, '3aj': 408, 'believe': 852, 'true': 3213, 'incredible': 1813, 'learn': 1969, 'truly': 3217, 'amazing': 728, 'blow': 885, 'o2fwd': 2333, '18p': 304, 'europe': 1418, 'b4': 801, '10th': 256, 'sept': 2794, '09050000555': 161, 'ba128nnfwfly150ppm': 804, 'fine': 1501, 'miss': 2174, '09066612661': 226, '20m12aq': 326, 'ûï': 3523, '09050000460': 160, 'j89': 1862, 'box245c2150pm': 910, 'special': 2930, 'forget': 1539, 'enjoy': 1396, 'gbp': 1591, '0776xxxxxxx': 29, 'invited': 1842, 'xchat': 3471, 'final': 1498, 'attempt': 785, 'msgrcvdhg': 2227, 'ldn': 1964, '18yrs': 305, 'flirting': 1518, 'girl': 1616, 'bloke': 881, 'age': 697, 'zoe': 3515, 'ask': 777, 'abt': 649, 'wan': 3364, 'ktv': 1931, 'oso': 2379, 'accessible': 655, '08709501522': 90, '139': 278, 'la3': 1935, '2wu': 377, 'weight': 3399, 'tear': 3082, 'comes': 1122, 'falls': 1457, 'eyes': 1445, 'stupid': 3008, 'share': 2817, 'bslvyl': 946, 'accidentally': 657, 'deleted': 1258, 'suppose': 3042, 'sim': 2843, 'archive': 758, 'haiz': 1684, 'sad': 2732, 'linerental': 1999, 'lf56': 1983, 'brother': 942, 'english': 1395, 'grins': 1661, 'muhommad': 2238, 'penny': 2417, 'says': 2754, 'hello': 1712, 'sea': 2768, 'pass': 2402, '69669': 506, 'normal': 2311, 'gprs': 1649, 'charges': 1037, 'tuition': 3231, '330': 397, 'hm': 1734, '1120': 258, '1205': 266, 'brings': 937, 'chart': 1040, 'heroes': 1720, 'pics': 2442, 'wap': 3371, 'receiving': 2624, 'tips': 3150, 'december': 1247, '11mths': 263, '08002986906': 53, 'gender': 1598, 'begin': 850, '24m': 338, 'wk': 3431, '80608': 556, 'movietrivia': 2219, 'tv': 3236, 'custcare': 1210, '08712405022': 107, '1x150p': 315, 'moby': 2197, 'pub': 2565, 'quiz': 2585, 'high': 1725, 'street': 2998, 'duchess': 1351, 'cornwall': 1164, '82277': 566, '008704050406': 2, 'sp': 2921, 'house': 1765, 'maid': 2086, 'murderer': 2244, 'coz': 1179, 'murdered': 2243, 'lt': 2060, 'gt': 1667, 'th': 3114, 'public': 2566, 'govt': 1648, 'instituitions': 1832, 'closed': 1096, 'including': 1811, 'post': 2504, 'type': 3251, 'alright': 724, 'car': 996, 'tonight': 3176, 'started': 2964, 'sport': 2948, 'radio': 2590, 'connection': 1152, 'coincidence': 1109, 'fb': 1474, 'head': 1702, 'straight': 2997, 'buy': 962, 'egg': 1375, 'announcement': 734, 'premier': 2519, 'freephone': 1557, '0800': 44, '542': 479, '0578': 17, '09061790121': 195, '3030': 382, 'hmm': 1735, 'bits': 873, 'pieces': 2447, 'sighs': 2838, 'arms': 767, 'cardiff': 998, 'uni': 3271, 'complementary': 1134, 'wa14': 3355, '2px': 370, 'sender': 2791, 'hol': 1740, 'tried': 3208, 'response': 2675, 'gr8': 1650, 'poly': 2492, 'mobs': 2195, 'direct': 1288, '2u': 375, 'rply': 2715, 'title': 3152, 'breathe1': 935, 'titles': 3153, 'crazyin': 1185, 'sleepingwith': 2870, 'finest': 1502, 'ymca': 3501, 'pobox365o4w45wq': 2480, '300p': 381, 'burger': 955, 'king': 1920, 'wanna': 3366, 'play': 2459, 'footy': 1537, 'stadium': 2957, 'large': 1949, 'coca': 1105, 'cola': 1111, 'walk': 3360, 'sterm': 2976, 'voice': 3336, 'studying': 3006, 'resolved': 2670, 'tho': 3136, 'fab': 1449, 'hols': 1745, 'wow': 3458, 'didn': 1276, 'guess': 1672, 'gave': 1588, 'boston': 902, 'men': 2141, 'location': 2022, 'nyc': 2330, 'cuz': 1218, 'signin': 2841, 'page': 2390, 'decimal': 1249, 'common': 1126, 'better': 858, 'china': 1065, 'asia': 774, 'expensive': 1433, 'holla': 1744, 'newest': 2285, 'ûïharry': 3524, 'potter': 2510, 'phoenix': 2430, 'harry': 1695, 'answer': 739, 'questions': 2582, 'readers': 2609, 'whats': 3408, 'plan': 2457, 'doing': 1313, 'freemsg': 1556, 'buffy': 951, '25': 339, 'home': 1746, 'randy': 2597, 'pix': 2455, 'qlynnbv': 2577, 'help08700621170150p': 1714, 'sounds': 2918, 'gd': 1595, 'wah': 3356, 'yan': 3486, 'jiu': 1880, 'fast': 1469, 'ref': 2633, 'r836': 2588, '09065069154': 208, 'saturday': 2747, 'sunday': 3034, 'difficult': 1282, 'plumbers': 2468, 'tape': 3071, 'wrench': 3460, 'borrow': 900, 'xxx': 3478, 'picsfree1': 2443, 'vid': 3320, '2day': 354, 'keyword': 1912, 'germany': 1605, 'pence': 2415, 'fixed': 1508, 'access': 654, '0844': 59, '861': 592, '85': 584, 'prepayment': 2521, 'telediscount': 3087, '2nd': 364, '200': 317, '09066361921': 217, 'outbid': 2382, 'simonwatson5120': 2844, 'shinco': 2819, 'dvd': 1356, 'plyr': 2470, 'visit': 3331, 'ac': 653, 'smsrewards': 2895, 'notifications': 2316, 'tuesday': 3229, 'ic': 1789, 'doors': 1321, 'disturbing': 1296, 'somebody': 2904, 'secretly': 2775, '09065394973': 212, 'datebox1282essexcm61xn': 1233, 'darlin': 1228, 'ive': 1857, 'lift': 1991, 'tomorrow': 3170, 'vote': 3340, 'sing': 2848, 'stars': 2962, 'karaoke': 1905, 'records': 2628, 'indicate': 1818, 'maybe': 2123, 'compensation': 1132, 'accident': 656, 'headache': 1703, 'figure': 1490, 'trust': 3218, 'math': 2112, 'promise': 2551, 'meh': 2136, 'knows': 1929, 'wants': 3370, 'arsenal': 771, 'dartboard': 1230, 'condition': 1143, 'doubles': 1327, 'trebles': 3206, 'spoil': 2942, 'bed': 845, 'notice': 2315, 'driving': 1343, 'slower': 2877, 'idiot': 1794, 'faster': 1470, 'maniac': 2097, 'harish': 1694, 'rent': 2654, 'transfred': 3200, 'acnt': 665, 'flirt': 1517, 'sam': 2738, 'recd': 2620, 'thirtyeight': 3134, 'block': 880, 'breaker': 932, 'deluxe': 1263, 'format': 1545, 'features': 1475, 'graphics': 1654, 'replying': 2661, 'bbdeluxe': 832, 'challenge': 1027, 'plm': 2465, 'worries': 3453, 'railway': 2591, 'cal': 971, '09064012103': 200, 'loyalty': 2056, 'nokia6650': 2302, 'txtauction': 3242, 'start': 2963, '81151': 560, '4t': 457, 'ctxt': 1201, 'tc': 3076, 'mtmsg': 2233, 'confirmed': 1146, 'lions': 2004, 'england': 1394, 'lionm': 2002, 'mono': 2205, 'lionp': 2003, 'initiate': 1824, 'understand': 3266, 'went': 3405, 'project': 2550, 'centre': 1025, 'brought': 943, 'em': 1383, 'april': 754, 'leh': 1975, 'course': 1177, 'happen': 1689, 'lar': 1948, 'romantic': 2708, 'jus': 1896, 'lor': 2039, 'thk': 3135, 'nite': 2294, 'scenery': 2758, '6months': 521, 'available': 789, 'sony': 2908, 'motorola': 2215, 'n9dx': 2252, 'vodafone': 3335, 'numbers': 2326, 'ending': 1390, '4882': 445, '09064019014': 205, 'hear': 1706, 'divorce': 1297, 'barbie': 824, 'ken': 1909, 'stuff': 3007, 'wkly': 3433, 'comp': 1128, 'fa': 1448, 'cup': 1205, 'tkts': 3155, '21st': 330, '2005': 321, 'question': 2581, 'std': 2973, '08452810075over18': 66, 'yetunde': 3498, 'moji': 2200, 'busy': 960, 'shopping': 2824, 'wanted': 3368, 'forgive': 1541, 'yahoo': 3485, 'messenger': 2150, '22': 331, 'kick': 1914, 'euro2004': 1416, 'kept': 1910, 'results': 2681, 'daily': 1223, 'removed': 2650, '83222': 571, 'ou': 2381, '40gb': 428, 'ipod': 1846, 'mp3': 2220, 'player': 2461, '83355': 572, 'ibhltd': 1787, 'ldnw15h': 1965, 'mtmsgrcvd18': 2235, 'possession': 2502, 'property': 2557, 'mmm': 2180, 'childish': 1062, 'smile': 2885, 'yrs': 3508, 'supply': 3040, 'cds': 1022, 'virgin': 3328, 'mystery': 2251, '09061104283': 184, 'smsco': 2893, 'net': 2276, '50pm': 471, 'approx': 753, '0808': 56, '145': 281, '4742': 444, '9am': 638, '11pm': 264, 'tension': 3095, 'machi': 2082, 'problem': 2543, 'created': 1187, 'web': 3387, 'asjesus': 776, 'read': 2608, 'wrote': 3463, 'opinions': 2363, 'posh': 2501, 'birds': 869, 'chaps': 1034, 'trial': 3207, 'prods': 2547, 'champneys': 1028, 'dob': 1302, 'asap': 773, 'ta': 3060, 'extra': 1441, '44': 431, '7732584351': 535, 'specific': 2932, 'current': 1207, 'leading': 1968, '151': 296, 'pause': 2409, '08718726270': 136, 'natalie': 2264, '20': 316, 'inviting': 1843, '165': 300, 'natalie2k9': 2265, 'frnd': 1565, '62468': 497, 'sang': 2739, 'uptown': 3290, '80': 544, '83600': 576, 'princess': 2532, 'moan': 2186, 'loans': 2020, 'purpose': 2570, 'credit': 1188, 'tenants': 3093, 'noworriesloans': 2321, '08717111821': 125, '750': 530, 'pound': 2511, '08718726970': 138, 'hillsborough': 1727, 'ukp': 3258, '09061790125': 196, 'wot': 3457, 'missy': 2177, '88800': 611, '89034': 614, '08718711108': 132, 'thinking': 3130, 'chuckin': 1078, 'red': 2630, 'green': 1658, 'black': 875, 'trainners': 3197, 'save': 2750, 'carryin': 1006, 'bac': 810, 'train': 3195, '0789xxxxxxx': 39, '2find': 357, 'surprise': 3048, 'awaiting': 793, 'clear': 1091, 'copies': 1161, 'space': 2922, 'invaders': 1840, 'orig': 2376, 'arcade': 757, 'console': 1154, 'press': 2524, 'games': 1583, 'o2': 2332, 'terms': 3097, 'settings': 2802, 'purchase': 2568, 'lux': 2069, 'costa': 1169, 'del': 1256, 'sol': 2902, 'james': 1865, '28': 346, 'eh74rr': 1378, 'football': 1536, 'sky': 2864, 'gamestar': 1584, 'active': 671, '250k': 341, 'dream': 1338, 'team': 3081, 'scoring': 2763, 'starts': 2966, 'register': 2639, 'opt': 2364, '88088': 608, '8th': 625, 'rain': 2592, 'quite': 2584, 'drizzling': 1344, 'run': 2724, 'film': 1493, 'ill': 1798, 'later': 1953, 'dropped': 1346, 'ìï': 3519, 'dad': 1222, 'pick': 2438, 'tms': 3159, 'widelive': 3412, 'index': 1815, 'wml': 3435, '1b6a5ecef91ff9': 307, '37819': 405, 'true18': 3214, '0430': 14, 'jul': 1893, 'billy': 867, 'gone': 1635, 'jogging': 1883, 'concert': 1142, 'eerie': 1373, '4u': 459, 'dracula': 1334, 'ghost': 1612, 'addamsfa': 676, 'munsters': 2242, 'exorcist': 1429, 'twilight': 3238, 'pobox36504w45wq': 2479, 'excuses': 1427, 'aiyo': 713, 'neva': 2282, 'tot': 3187, 'havent': 1699, 'finish': 1503, 'lab': 1937, 'choose': 1072, 'quality': 2578, 'items': 1856, '7cfca1a': 539, 'bank': 820, 'granite': 1653, 'issues': 1854, 'strong': 3003, 'explosive': 1438, 'members': 2139, 'nasdaq': 2260, 'symbol': 3058, 'cdgt': 1021, 'spanish': 2926, '09050000332': 159, 'rstm': 2717, 'sw7': 3051, '3ss': 417, 'valentine': 3308, 'paris': 2396, 'flight': 1514, 'hotel': 1758, '69101': 504, 'rtf': 2718, 'sphosting': 2937, 'screwd': 2766, 'paper': 2395, 'morn': 2212, 'aft': 693, 'tmr': 3158, 'completely': 1136, 'forgot': 1543, 'pop': 2499, 'spook': 2946, 'halloween': 1686, 'logo': 2027, 'pic': 2437, 'plus': 2469, 'card': 997, 'zed': 3514, '08701417012150p': 73, 'shant': 2816, 'disturb': 1295, 'anymore': 743, 'jia': 1879, 'yesterday': 3497, 'pickle': 2441, 'met': 2152, 'alex': 719, 'nichols': 2288, 'middle': 2157, 'school': 2761, 'turns': 3235, 'dealing': 1244, 'conacted': 1140, '09111030116': 241, 'pobox12n146tf15': 2476, '40': 421, 'cc100p': 1019, 'complete': 1135, 'month': 2206, 'chocolate': 1069, 'weed': 3393, 'alcohol': 716, 'rayman': 2601, 'golf': 1634, 'activ8': 669, 'key': 1911, 'termsapply': 3098, 'uncle': 3265, 'checking': 1054, 'rewarding': 2690, 'asked': 779, '09058091854': 172, 'revealed': 2686, 'box385': 913, 'm6': 2076, '6wu': 523, 'definitely': 1255, 'module': 2198, 'humanities': 1779, 'sem': 2788, 'izzit': 1858, 'modules': 2199, 'summers': 3032, 'finally': 1499, 'singles': 2850, 'matched': 2109, 'summer': 3031, 'optout': 2366, 'help08714742804': 1715, 'late': 1952, 'lesson': 1978, 'reaching': 2607, 'tp': 3194, 'mrt': 2222, 'feelin': 1478, 'kinda': 1919, 'lnly': 2017, 'jst': 1892, 'cam': 986, '82242': 565, 'msg150p': 2224, '2rcv': 371, 'hlp': 1733, '08712317606': 97, 'lover': 2050, 'job': 1881, 'wake': 3359, 'slave': 2867, 'teasing': 3083, 'kiss': 1921, '09050090044': 167, 'toclaim': 3164, 'pobox334': 2478, 'stockport': 2980, 'sk38xh': 2858, 'costå': 1172, 'pm': 2471, 'max10mins': 2117, 'works': 3449, 'old': 2351, 'doesnt': 1307, 'bother': 903, 'tbs': 3075, 'persolvo': 2423, 'chasing': 1042, 'forå': 1548, '38': 406, 'paying': 2411, 'ignore': 1796, 'kath': 1907, 'manchester': 2095, 'town': 3192, 'exciting': 1425, 'adult': 687, 'handset': 1688, 'anytime': 745, 'contacted': 1156, '09064017305': 204, 'pobox75ldns7': 2482, 'study': 3005, 'lightly': 1993, 'custom': 1211, 'checkboxes': 1052, 'hardcore': 1693, 'pocay': 2484, 'wocay': 3437, '4eva': 449, '2morrowxxxx': 363, 'lucy': 2064, 'meetins': 2134, 'fri': 1559, 'cumin': 1204, 'leave': 1970, '09099726395': 237, '0207': 8, '083': 58, '6089': 490, 'upgrade': 3285, '153': 297, '9996': 636, 'ends': 1391, '14thmarch': 284, 'availa': 788, 'simpsons': 2847, 'released': 2642, 'july': 1894, '2007': 323, 'band': 817, 'died': 1279, 'blue': 887, 'yeah': 3491, 'lined': 1998, 'cmon': 1102, 'turn': 3234, 'sticky': 2979, 'replies': 2659, 'cancel': 992, 'printed': 2533, 'upstairs': 3288, 'professional': 2548, 'tiger': 3143, 'woods': 3444, '87239': 603, 'rock': 2704, 'chik': 1059, 'films': 1494, 'filth': 1495, 'saristar': 2744, 'e14': 1357, '9yt': 642, '08701752560': 76, '450p': 441, 'stop2': 2983, 'bootydelious': 897, '32': 392, '434': 430, '08715203694': 121, 'frens': 1558, 'wif': 3413, 'mum': 2240, 'sis': 2853, 'miiiiiiissssssssss': 2159, 'crave': 1183, 'geeee': 1596, 'gsoh': 1666, 'spam': 2925, 'ladies': 1938, 'gigolo': 1614, 'fastest': 1471, 'growing': 1662, 'mens': 2142, 'oncall': 2355, 'mjzgroup': 2179, '08714342399': 112, '2stop': 372, '50rcvd': 473, '08712402902': 103, 'immediately': 1802, 'pleased': 2463, 'inform': 1820, 'application': 751, 'airtel': 710, 'broadband': 940, 'processed': 2546, 'successfully': 3023, 'installation': 1829, 'update_now': 3284, 'sonyericsson': 2909, 'f4q': 1447, 'thank': 3115, 'skyped': 2866, 'wit': 3428, 'kz': 1932, 'sura': 3044, 'pleasure': 2464, 'given': 1619, 'ultimatum': 3261, 'countin': 1174, 'aburo': 651, 'subscribed': 3016, 'textcomp': 3108, 'follows': 1532, 'subsequent': 3022, 'wks': 3434, '84128': 581, '08712405020': 106, 'oranges': 2369, 'calls': 983, 'upd8': 3282, 'freefone': 1555, '2stoptx': 373, 'bucks': 949, 'com1win150ppmx3age16subscription': 1119, 'yijue': 3499, 'sue': 3024, 'lapdancer': 1946, 'bedroom': 846, '89555': 620, 'textoperator': 3110, 'g2': 1578, '1da': 308, '150ppmsg': 294, 'told': 3168, 'hr': 1769, 'posting': 2507, 'chennai': 1056, 'working': 3448, 'touch': 3190, 'folks': 1528, 'community': 1127, 'uniform': 3273, 'wisdom': 3426, 'dreams': 1339, 'frnds': 1566, 'alwys': 726, 'sweet': 3054, 'north': 2312, 'carolina': 1005, 'texas': 3104, 'atm': 784, 'gre': 1656, 'site': 2856, 'test': 3101, 'sat': 2745, 'kate': 1906, 'jackson': 1864, 'center': 1024, '7ish': 540, 'watching': 3378, 'ûò': 3525, 'entertaining': 1402, 'hugh': 1776, 'laurie': 1959, 'stick': 2978, 'especially': 1413, 'frm': 1564, 'wats': 3380, 'matter': 2115, 'catch': 1015, 'interflora': 1835, 'åòit': 3517, 'flowers': 1522, '505060': 464, 'midnight': 2158, 'kickoff': 1915, 'informed': 1822, 'euro': 1415, 'gnarls': 1625, 'barkleys': 826, 'totally': 3189, 'picture': 2444, 'alto18': 725, 'wave': 3381, 'asp': 782, '44345': 434, 'finishing': 1505, 't91': 3059, '09057039994': 171, 'looks': 2038, 'wil': 3415, 'headstart': 1705, 'bout': 906, '30ish': 384, 'earlier': 1358, 'goin': 1631, 'rummer': 2723, 'sake': 2735, 'tallahassee': 3069, 'let': 1980, 'noe': 2297, 'eh': 1377, 'spell': 2935, 'naughty': 2268, 'wet': 3407, 'official': 2341, 'flag': 1510, 'yer': 3495, 'tonights': 3177, '84199': 582, 'eng': 1393, 'box39822': 914, 'w111wx': 3347, 'str8': 2996, 'classic': 1088, 'polys': 2496, '200p': 324, '07808247860': 35, '08719899229': 154, '40411': 426, 'ripped': 2701, 'content': 1157, 'clubmoby': 1099, '08717509990': 128, 'downloads': 1331, 'meant': 2127, 'enters': 1401, 'flat': 1513, 'transfered': 3198, 'dollars': 1315, 'banks': 821, 'differ': 1281, '9ja': 639, 'person': 2424, 'sending': 2792, 'local': 2021, 'women': 3439, 'looking': 2037, 'instantly': 1831, 'match': 2108, '69969': 515, 'bcmsfwc1n3xx': 837, 'caller': 978, '03': 12, '09064019788': 206, 'box42wr29c': 916, 'congrats': 1147, '3g': 409, 'videophones': 3323, '09063458130': 198, 'videochat': 3322, 'wid': 3411, 'java': 1871, 'dload': 1300, 'polyph': 2494, 'noline': 2304, 'rentl': 2656, '600': 488, 'landmark': 1944, 'bob': 889, 'barry': 827, 'ben': 854, '83738': 577, 'triple': 3210, 'echo': 1371, 'shortly': 2826, 'case': 1008, 'campus': 990, 'lodge': 2024, 'treasure': 3204, 'moment': 2202, 'spend': 2936, 'star': 2961, 'ibiza': 1788, '09066364349': 221, 'lose': 2041, 'box434sk38wp150ppm18': 917, 'ready': 2611, 'ttyl': 3227, 'gained': 1580, 'kg': 1913, 'second': 2772, 'blood': 883, 'sugar': 3026, 'tests': 3103, 'pressure': 2525, 'limits': 1996, 'ard': 759, '530': 477, 'dat': 1231, 'juz': 1900, 'dun': 1353, 'haf': 1680, 'missed': 2175, 'called': 977, 'left': 1972, '07008009200': 20, 'pin': 2451, '09058094455': 174, 'chloe': 1068, 'smashed': 2883, 'missing': 2176, 'visionsms': 3330, 'smoking': 2891, 'wylie': 3467, 'smokes': 2890, 'justify': 1899, 'ruining': 2722, 'shit': 2821, 'yun': 3509, 'ubi': 3254, '67441233': 502, 'look': 2034, 'irene': 1847, 'ere': 1410, 'bus8': 958, '65': 499, '61': 492, '66': 500, '382': 407, 'cres': 1191, 'tech': 3084, 'park': 2397, '6ph': 522, '5wkg': 486, 'spatula': 2928, 'hands': 1687, 'comedy': 1121, 'laughing': 1957, 'piece': 2446, 'city': 1082, 'break': 931, 'spree': 2951, 'store': 2992, '88039': 606, 'skilgme': 2859, 'tscs087147403231winawk': 3225, '50perwksub': 470, 'staying': 2972, 'sleep': 2868, '0a': 243, 'networks': 2281, 'allow': 723, 'companies': 1129, 'responsible': 2676, 'suppliers': 3039, '6230': 496, 'digital': 1283, 'pobox114': 2475, '14tcr': 283, 'w1': 3346, 'smart': 2881, '85222': 587, 'winnersclub': 3423, '84': 578, 'm26': 2074, '3uz': 418, 'gbp1': 1592, 'sen': 2789, 'finance': 1500, 'cbe': 1017, 'shining': 2820, 'signing': 2842, 'ffffffffff': 1485, 'sooner': 2911, 'laid': 1940, 'locations': 2023, 'largest': 1950, '69888nyt': 513, 'ec2a': 1370, '31p': 391, 'recently': 2626, 'unable': 3263, '07090298926': 23, 'schedule': 2760, '9307622': 630, 'raviyog': 2600, 'peripherals': 2422, 'bhayandar': 860, 'east': 1362, 'hor': 1752, 'win150ppmx3age16': 3419, '87131': 600, '0870737910216yrs': 84, 'check': 1051, 'videos': 3324, 'shsex': 2832, 'netun': 2278, 'fgkslpopw': 1487, 'fgkslpo': 1486, 'friday': 1560, 'superior': 3037, 'hep': 1719, 'immunisation': 1803, 'nigeria': 2289, '09061701851': 190, 'k61': 1902, '12hours': 274, 'til': 3145, 'dinner': 1287, 'taking': 3066, 'ure': 3293, 'practical': 2514, 'lessons': 1979, 'june': 1895, '08718723815': 134, 'shop': 2823, '80878': 558, '08715705022': 124, 'thanks2': 3117, 'phone750': 2432, '08000776320': 46, 'mmmm': 2181, 'lick': 1987, 'sports': 2949, 'fans': 1462, 'str': 2995, '0870141701216': 74, '4txt': 458, '120p': 267, 'lord': 2040, 'rings': 2696, 'return': 2684, 'lotr': 2044, 'soundtrack': 2919, 'stdtxtrate': 2974, 'lmao': 2016, 'wont': 3443, 'needing': 2273, 'hair': 1683, '08717895698': 130, 'mobstorequiz10ppm': 2196, 'resent': 2668, 'previous': 2528, 'failed': 1454, 'error': 1411, 'queries': 2580, 'customersqueries': 1215, 'netvision': 2279, 'carlos': 1004, 'lost': 2042, 'answering': 741, 'remb': 2644, 'drinkin': 1340, 'meal': 2125, 'following': 1531, 'dining': 1286, 'experiencehttp': 1434, 'vouch4me': 3341, 'etlp': 1414, 'hack': 1679, 'backdoor': 811, '121': 268, 'rooms': 2710, 'fraction': 1550, 'neo69': 2275, '09050280520': 168, 'subscribe': 3014, 'dps': 1333, 'bcm': 835, '8027': 554, 'wc1n3xx': 3384, 'pee': 2414, 'burns': 956, 'tonite': 3178, '28th': 349, 'feb': 1476, 'removal': 2648, '08708034412': 88, 'mandy': 2096, 'sullivan': 3030, 'hotmix': 1760, 'fm': 1525, 'easter': 1364, 'telephone': 3088, '09041940223': 157, '29': 351, 'transferred': 3199, 'saw': 2751, 'accommodation': 658, 'various': 3313, 'global': 1623, 'phb1': 2429, 'ph': 2428, '08700435505150p': 68, 'alive': 721, 'fantasies': 1463, '114': 261, '14': 279, 'tcr': 3077, 'cust': 1209, '08714712388': 115, '10am': 252, '7pm': 542, '87077': 598, 'season': 2771, '2wks': 376, 'goals': 1628, 'villa': 3325, 'gets': 1607, 'hmmm': 1736, 'change': 1031, 'field': 1488, 'quickly': 2583, 'administrator': 680, 'okmail': 2350, 'dave': 1236, '09061743806': 192, 'tcs': 3078, 'box326': 911, 'elvis': 1382, 'presleys': 2523, 'birthday': 870, 'rite': 2702, 'åè10': 3516, 'evey': 1422, 'mnth': 2183, 'concerned': 1141, 'thanx': 3119, 'puttin': 2573, 'explicit': 1437, '30': 379, 'secs': 2776, '02073162414': 10, 'costs': 1171, 'gsex': 1665, '2667': 344, 'wc1n': 3383, '3xx': 419, '125': 271, 'freeentry': 1554, 'xt': 3474, 'advise': 689, 'recent': 2625, 'review': 2688, '1500': 287, '09066364589': 222, 'free2day': 1553, 'st': 2956, 'george': 1604, 'jordan': 1889, '89080': 616, 'celeb': 1023, 'pocketbabe': 2485, '0870241182716': 78, 'delivered': 1259, 'close': 1095, 'rgent': 2692, '1250': 272, '09071512433': 228, '050703': 16, 'csbcm4235wc1n3xx': 1197, 'callcost': 976, 'mobilesvary': 2192, 'maxå': 2121, 'reach': 2605, '09066368753': 224, '97n7qp': 634, 'interview': 1837, 'tirupur': 3151, 'enjoyed': 1397, '61610': 494, 'help': 1713, '08712400602450p': 99, 'provided': 2559, 'tones2you': 3174, '08452810071': 64, '12mths': 276, '400mins': 423, 'j5q': 1861, 'jason': 1870, 'fink': 1506, '09099726553': 240, 'promised': 2552, 'carlie': 1003, 'minmobsmore': 2167, 'lkpobox177hp51fl': 2013, 'transport': 3201, 'problematic': 2544, 'bday': 838, 'definite': 1254, 'nos': 2313, 'booking': 895, 'secure': 2778, 'lemme': 1977, 'drive': 1342, 'south': 2920, 'chill': 1064, 'amanda': 727, 'regard': 2637, 'renewing': 2653, 'upgrading': 3286, 'tel': 3086, '0845': 62, '021': 11, '3680': 402, 'subject': 3010, 'times': 3148, '09066362231': 219, '07xxxxxxxxx': 42, '02': 7, 'ringtoneking': 2698, '84484': 583, '08714712394': 116, '08712402972': 104, 'hows': 1767, 'resizing': 2669, 'cool': 1160, 'inches': 1808, 'fr': 1549, 'noisy': 2298, 'small': 2879, 'prestige': 2526, '8000930705': 546, 'hppnss': 1768, 'drop': 1345, 'sorrow': 2913, 'forevr': 1538, 'goodfriend': 1640, 'advance': 688, 'pongal': 2497, 'cartoon': 1007, 'listening': 2008, 'church': 1079, 'received': 2623, 'dorothy': 1322, 'kiefer': 1917, 'wan2': 3365, 'greet': 1659, 'westlife': 3406, 'm8': 2078, 'tour': 3191, 'unbreakable': 3264, 'untamed': 3281, 'unkempt': 3275, '83049': 569, '50p': 468, 'nt': 2322, 'secret': 2773, 'admirer': 681, 'reveal': 2685, 'thinks': 3131, '09065174042': 210, '07821230901': 37, 'deepest': 1252, 'darkest': 1227, '09094646631': 234, '60p': 491, 'nat': 2262, 'cashto': 1011, '08000407165': 45, 'getstop': 1608, '88222': 609, 'php': 2436, 'rg21': 2691, '4jx': 453, 'include': 1810, 'mcfly': 2124, 'ab': 644, 'sara': 2743, 'jorge': 1890, 'shock': 2822, 'smith': 2888, 'switch': 3056, 'follow': 1529, 'instructions': 1833, 'reverse': 2687, 'cheating': 1050, 'mathematics': 2113, 'nights': 2291, '79': 538, 'year': 3492, '08704439680ts': 82, 'twinks': 3239, 'bears': 839, 'scallies': 2755, 'skins': 2862, 'jocks': 1882, '08712466669': 109, 'drug': 1347, 'eat': 1366, 'finished': 1504, 'march': 2099, 'ish': 1850, 'biz': 874, 'polo': 2491, 'suite': 3028, '373': 403, 'london': 2030, 'w1j': 3349, '6hl': 518, 'mnths': 2184, 'callback': 975, 'testing': 3102, 'dunno': 1354, 'bathing': 830, 'bathe': 829, 'cleaning': 1090, 'tool': 3180, 'netcollex': 2277, '08700621170150p': 70, 'songs': 2907, 'bought': 905, 'costing': 1170, 'offering': 2338, 'chinese': 1066, 'fat': 1472, 'lipo': 2006, '09064017295': 203, 'k52': 1901, '09050000928': 162, 'pobox45w2tg150p': 2481, 'requests': 2666, 'coins': 1110, 'factory': 1453, 'gotta': 1645, 'nitros': 2295, 'hurt': 1782, 'ploughing': 2466, 'pile': 2448, 'ironing': 1848, 'chinky': 1067, 'treat': 3205, 'nimbomsons': 2293, 'yep': 3494, 'obviously': 2335, 'apology': 748, 'texting': 3109, 'diff': 1280, 'farm': 1467, 'cheese': 1055, 'eastenders': 1363, 'flower': 1521, 'dot': 1325, 'compare': 1131, 'violet': 3326, 'tulip': 3232, 'lily': 1995, '84025': 579, 'wkent': 3432, '150p16': 289, 'awesome': 797, 'doin': 1312, 'optin': 2365, 'bbc': 831, 'charts': 1041, 'promotion': 2555, '8714714': 601, 'tonexs': 3175, 'subscription': 3019, 'renewed': 2652, 'clubzed': 1100, 'billing': 866, 'slowly': 2878, 'vomit': 3338, 'imma': 1801, 'flip': 1516, 'hour': 1762, 'buns': 954, 'adore': 683, 'loverboy': 2051, 'sister': 2854, 'law': 1960, 'meatballs': 2128, '449050000301': 438, '09050000301': 158, 'bloomberg': 884, '447797706009': 435, 'future': 1576, 'careers': 1001, 'impressed': 1805, 'funs': 1575, '83039': 568, '62735': 498, '450': 440, 'accommodationvouchers': 659, 'conditions': 1144, 'mustprovide': 2249, '15541': 298, 'ip': 1844, 'considering': 1153, 'isn': 1852, 'minecraft': 2165, 'server': 2797, 'arm': 765, 'weak': 3385, 'shot': 2827, 'ave': 791, '0871277810710p': 110, 'brand': 927, 'agent': 700, 'loads': 2018, 'goodies': 1641, 'info': 1819, 'mat': 2107, 'fones': 1534, 'wild': 3416, 'hurry': 1781, 'bored': 898, 'rcvd': 2604, 'stop2stop': 2984, '09058094507': 175, 'install': 1828, 'browse': 945, 'artists': 772, 'tddnewsletter': 3079, 'emc1': 1387, 'thedailydraw': 3122, 'helen': 1711, 'dozens': 1332, 'prizeswith': 2540, 'mu': 2237, 'heard': 1707, 'u4': 3253, 'knickers': 1926, 'beg': 849, '01223585236': 4, 'xx': 3475, 'nikiyu4': 2292, '3mobile': 414, 'chatlines': 1045, 'inclu': 1809, 'india': 1816, 'servs': 2800, 'sed': 2779, 'l8er': 1933, 'mega': 2135, 'giv': 1618, 'bailiff': 815, 'sppok': 2950, 'freak': 1551, 'unless': 3276, 'chop': 1074, '27': 345, '08714714011': 118, 'slide': 2872, 'doctors': 1303, 'reminds': 2647, '2go': 358, 'lounge': 2047, 'shadow': 2812, 'spring': 2952, 'yay': 3490, '07808726822': 36, '09': 156, '0871': 91, '872': 602, '9758': 633, 'box95qu': 919, 'castor': 1013, 'rofl': 2706, 'baby': 808, 'cruisin': 1195, 'jenny': 1875, 'torture': 3185, 'brownie': 944, 'url': 3295, 'imagine': 1800, 'rub': 2719, 'feet': 1480, 'coming': 1124, 'replied': 2658, 'female': 1483, 'cheyyamo': 1057, 'darling': 1229, 'soooo': 2912, 'problems': 2545, 'provider': 2560, 'tming': 3157, '07808': 34, 'xxxxxx': 3482, '08719899217': 153, '41685': 429, '07': 19, 'deduct': 1250, 'claims': 1084, '09050005321': 166, 'shy': 2834, '09058091870': 173, 'pobox84': 2483, 'phony': 2434, 'voda': 3334, 'xxxx': 3480, 'quoting': 2587, '3100': 389, 'standard': 2959, 'app': 749, 'hui': 1778, 'xin': 3472, 'lib': 1985, 'bahamas': 814, 'callfreefone': 981, '08081560665': 57, 'cruise': 1194, 'ofå': 2343, '07786200117': 30, 'performance': 2420, 'calculated': 972, 'period': 2421, 'inside': 1827, 'filling': 1492, 'forms': 1546, 'hitter': 1730, '7634': 533, '7684': 534, '83435': 575, 'helpline': 1717, '08706091795': 83, '2006': 322, 'fifa': 1489, 'world': 3450, 'held': 1710, 'reminder': 2646, 'downloaded': 1330, 'paid': 2391, 'goto': 1644, 'doit': 1314, 'mymoby': 2250, '4mths': 455, 'mobilesdirect': 2191, '08000938767': 49, 'or2stoptxt': 2367, '08707500020': 85, '7250': 525, '86021': 591, 'upto': 3289, 'activate': 670, '9061100010': 628, 'wire3': 3425, '1st4terms': 311, 'mobcudb': 2188, 'wine': 3420, 'dine': 1285, 'mom': 2201, '8077': 557, 'w45wq': 3353, 'norm150p': 2310, 'ebay': 1369, 'restock': 2678, 'thanksgiving': 3118, 'names': 2258, 'joined': 1885, 'name1': 2256, 'name2': 2257, 'mobno': 2194, 'adam': 674, '07123456789': 25, 'txtno': 3245, 'ads': 686, 'er': 1409, '15': 285, 'cafe': 970, 'sit': 2855, '077xxx': 31, '09066362206': 218, 'box97n7qp': 920, '4qf2': 456, 'cinema': 1080, '09061209465': 185, 'suprman': 3043, 'matrix3': 2114, 'starwars3': 2967, 'bx420': 965, 'ip4': 1845, '5we': 485, '150pm': 290, 'promises': 2553, 'gotten': 1646, 'total': 3188, 'converter': 1159, 'google': 1642, '2814032': 347, '3xå': 420, '150pw': 295, 'eå': 1446, 'nd': 2270, 'reading': 2610, 'gud': 1669, 'habit': 1678, 'nan': 2259, 'bari': 825, 'hudgi': 1775, 'yorge': 3503, 'pataistha': 2406, 'ertini': 1412, 'basket': 828, 'gettin': 1609, 'x49': 3469, '09065989182': 214, 'dnt': 1301, 'ice': 1790, 'cloth': 1097, 'pack': 2388, 'tablets': 3062, '07732584351': 27, 'rodger': 2705, 'ago': 703, '087187272008': 141, 'now1': 2320, 'sunshine': 3035, 'country': 1175, 'liverpool': 2011, 'played': 2460, 'mid': 2156, 'ansr': 738, 'tyrone': 3252, 'till': 3146, '10k': 253, '5k': 482, 'travel': 3203, '09064011000': 199, 'cr01327bt': 1181, 'fixedline': 1509, 'vary': 3314, 'usual': 3305, 'guy': 1675, 'wed': 3391, 'selection': 2785, 'click': 1093, 'open': 2361, '0721072': 26, 'porn': 2500, '69200': 505, '24': 336, 'hrs': 1770, 'chrgd': 1076, '2exit': 356, 'grinder': 1660, 'warm': 3372, 'vat': 3315, '448712404000': 437, '08712404000': 105, 'laptop': 1947, 'ax': 798, 'smsservices': 2896, 'yourinclusive': 3506, 'credits': 1189, 'comuk': 1139, 'login': 2026, '3qxj9': 416, '08702840625': 80, '220': 332, 'cm2': 1101, '9ae': 637, 'photo': 2435, 'ow': 2385, '08712103738': 94, '08712101358': 93, '1225': 269, '50award': 465, 'boltblue': 891, 'poly3': 2493, 'cha': 1026, 'slow': 2876, 'jamz': 1867, 'toxic': 3193, 'ûªve': 3522, 'bin': 868, 'instant': 1830, '08715203028': 119, '9th': 641, 'wins': 3424, 'iam': 1785, 'smoke': 2889, 'youdoing': 3504, 'sar': 2742, 'rushing': 2727, 'rush': 2726, 'textpod': 3111, 'vpod': 3344, '81303': 561, 'wtc': 3464, 'weiyi': 3401, 'rest': 2677, 'den': 1264, '125gift': 273, 'eatin': 1367, 'lunch': 2065, 'swhrt': 3055, 'dey': 1272, 'blackberry': 876, 'bold2': 890, 'donate': 1317, 'unicef': 3272, 'asian': 775, 'tsunami': 3226, 'disaster': 1292, 'support': 3041, 'fund': 1572, '864233': 593, 'added': 677, 'goal': 1627, 'henry': 1718, 'scores': 2762, 'simple': 2845, 'yards': 3488, 'bergkamp': 856, 'margin': 2100, '78': 536, 'mr': 2221, 'foley': 1527, 'prizes': 2539, 'eye': 1443, '82050': 563, '85233': 588, '09066368470': 223, '09111032124': 242, 'pobox12n146tf150p': 2477, 'cancer': 993, '7250i': 526, 'w1jhl': 3351, '08719899230': 155, 'naked': 2254, '69698': 508, 'fuckin': 1570, 'showr': 2829, 'hmv': 1737, 'genuine': 1603, '100percent': 249, 'k718': 1903, '09065069120': 207, 'bring': 936, 'bottle': 904, 'amused': 730, 'joking': 1888, 'morning': 2213, 'said': 2734, 'series': 2795, 'african': 692, 'soil': 2901, 'alfie': 720, 'moon': 2210, 'children': 1063, 'song': 2906, 'm8s': 2079, 'charity': 1038, 'nokias': 2303, '08701417012': 72, 'profit': 2549, '2nights': 365, 'uve': 3307, 'uks': 3259, 'wildest': 3417, '4goten': 451, 'scammers': 2756, 'regular': 2641, 'respond': 2673, 'prem': 2518, 'used': 3299, 'beware': 859, 'roast': 2703, 'iåõd': 1859, 'drinks': 1341, 'indian': 1817, 'fyi': 1577, 'sporadically': 2947, 'bc': 834, 'hate': 1696, 'annoying': 735, 'afternoon': 695, 'prospects': 2558, 'lazy': 1961, 'bleak': 878, 'filled': 1491, 'coast': 1104, 'mila': 2160, 'age23': 699, 'blonde': 882, 'mtalk': 2230, '69866': 510, '30pp': 385, '5free': 481, 'increments': 1814, 'help08718728876': 1716, 'zaher': 3512, 'words': 3446, 'ym': 3500, '09058094583': 177, 'sir': 2852, '88600': 610, '087016248': 75, '08006344447': 55, '2morro': 361, 'term': 3096, '2nite': 366, 'passion': 2403, '09099726481': 239, 'dena': 1265, 'broke': 941, '08718726978': 140, 'prakesh': 2515, 'ofcourse': 2336, 'upload': 3287, '09065394514': 211, 'babes': 806, 'fell': 1481, 'asleep': 781, 'iåõm': 1860, 'knackered': 1923, 'dreading': 1337, 'thou': 3137, '087123002209am': 96, '2p': 368, '08448350055': 60, 'planettalkinstant': 2458, 'justbeen': 1898, 'overa': 2383, 'brains': 926, 'mush': 2245, '07090201529': 22, 'living': 2012, 'perfect': 2419, 'partner': 2400, '100p': 248, 'slept': 2871, 'thinkthis': 3132, 'dangerous': 1224, 'real1': 2613, 'pushbutton': 2571, 'dontcha': 1319, 'babygoodbye': 809, 'golddigger': 1633, 'webeburnin': 3389, 'lifetime': 1990, 'amy': 731, 'couple': 1176, 'parties': 2399, 'hard': 1692, 'lie': 1988, 'twice': 3237, 'pathaya': 2407, 'enketa': 1398, 'maraikara': 2098, 'pa': 2387, 'bbq': 833, '6ish': 520, '09066350750': 215, 'sk3': 2857, '8wp': 626, 'aight': 706, 'embarassed': 1385, 'delete': 1257, 'tag': 3064, 'knew': 1925, 'wasn': 3374, 'fact': 1452, 'felt': 1482, 'messy': 2151, 'wednesday': 3392, 'clean': 1089, 'skype': 2865, 'pictures': 2445, 'throw': 3140, 'laundry': 1958, 'underwear': 3269, 'bras': 928, 'strewn': 2999, 'pillows': 2449, 'floor': 1520, 'making': 2092, 'weird': 3400, 'point': 2487, 'grumpy': 1664, 'lying': 2071, 'jokes': 1886, 'wamma': 3363, 'doggin': 1309, 'dogs': 1311, '69696': 507, 'nyt': 2331, '3lp': 412, '08714712412': 117, 'asking': 780, 'slippers': 2873, '447801259231': 436, '09058094597': 178, '2morrow': 362, 'ugh': 3255, 'leg': 1973, 'hurts': 1783, 'musta': 2247, 'overdid': 2384, 'mon': 2203, '89105': 617, 'ordered': 2371, 'smsing': 2894, 'xy': 3483, 'actually': 673, 'form': 1544, 'clark': 1086, 'utter': 3306, 'waste': 3375, 'horniest': 1753, 'sign': 2840, '69888': 512, 'anybody': 742, 'tactful': 3063, 'garden': 1585, 'bulbs': 952, 'seeds': 2780, '33': 396, 'scotsman': 2764, 'go2': 1626, 'notxt': 2318, 'parked': 2398, 'excuse': 1426, 'tampa': 3070, '9755': 632, 'innocent': 1825, '09065171142': 209, 'stopsms': 2990, '08': 43, 'knock': 1927, '80082': 549, 'choice': 1070, 'tkls': 3154, 'stoptxtstopå': 2991, 'farting': 1468, 'ha': 1677, 'db': 1240, 'masters': 2106, 'askd': 778, 'face': 1450, 'choices': 1071, 'toss': 3186, 'coin': 1108, 'becoz': 844, 'settle': 2803, 'air': 709, 'hoping': 1751, 'gudni8': 1670, 'deal': 1243, 'gate': 1586, 'charles': 1039, 'uh': 3256, 'sight': 2839, 'remain': 2643, 'maintain': 2089, 'cr': 1180, 'xxxmobilemovieclub': 3479, 'qjkgighjjgcbl': 2576, 'squeezed': 2954, 'm263uz': 2075, 'trouble': 3212, 'classes': 1087, 'dodgey': 1304, 'expecting': 1432, 'recovery': 2629, 'nope': 2307, 'pt2': 2564, '87575': 604, '1450': 282, '09053750005': 169, '310303': 390, '08718725756': 135, '140ppm': 280, 'history': 1728, 'comfort': 1123, 'sold': 2903, 'onion': 2357, 'rs': 2716, 'petrol': 2426, 'beer': 847, 'shesil': 2818, 'dude': 1352, 'longer': 2033, 'pisces': 2453, 'aquarius': 755, '2price': 369, '100txt': 250, 'mth': 2231, 'tooth': 3181, '2optout': 367, 'd3wv': 1220, 'stopped': 2988, 'cream': 1186, 'sian': 2836, 'supervisor': 3038, 'jamster': 1866, '88888': 613, '08701213186': 71, 'beauty': 841, 'pimples': 2450, 'ran': 2595, 'younger': 3505, 'babies': 807, 'abroad': 648, 'lonely': 2031, 'xxsp': 3476, 'stopcost': 2986, '08712400603': 100, 'med': 2129, 'stamped': 2958, 'self': 2786, 'envelope': 1407, '113': 259, 'bray': 930, 'wicklow': 3410, 'eire': 1379, '1000s': 247, '62220cncl': 495, 'stopcs': 2987, '08717890890å': 129, 'hmv1': 1738, 'speed': 2933, 'speedchat': 2934, '80155': 552, 'swap': 3053, 'chatter': 1046, 'chat80155': 1044, 'rcd': 2602, 'lovely': 2049, 'smell': 2884, 'bus': 957, 'ain': 707, 'tobacco': 3163, '09066649731from': 227, '08715500022': 123, 'rpl': 2714, 'cnl': 1103, 'funeral': 1573, 'mayb': 2122, 'gentleman': 1602, 'dignity': 1284, 'respect': 2671, 'boys': 923, '69855': 509, '24hrs': 337, 'stopbcm': 2985, 'sf': 2810, '08718738002': 146, '48922': 446, 'textand': 3106, '08002988890': 54, 'picking': 2440, '09090900040': 232, 'listen': 2007, 'extreme': 1442, 'dirty': 1290, 'privacy': 2535, 'sic': 2837, '7mp': 541, '0870753331018': 87, 'dates': 1234, 'lots': 2045, 'flirtparty': 1519, 'replys150': 2662, 'using': 3304, 'msgrcvd': 2225, 'skip': 2863, 'customercare': 1213, 'light': 1992, 'bye': 967, 'abiola': 645, 'lot': 2043, 'eggs': 1376, '4719': 443, '523': 475, 'kit': 1922, 'strip': 3001, 'billed': 865, '1013': 251, 'ig11': 1795, 'oja': 2346, 'subscribers': 3018, 'detroit': 1271, 'snow': 2899, 'loan': 2019, '75': 529, 'homeowners': 1747, 'previously': 2529, 'refused': 2635, '1956669': 306, 'command': 1125, 'sipix': 2851, '09061221066': 188, 'fromm': 1568, 'membership': 2140, 'jackpot': 1863, '81010': 559, 'dbuk': 1241, 'lccltd': 1962, '4403ldnw1a7rw18': 433, 'gentle': 1601, 'deep': 1251, 'tight': 3144, 'pussy': 2572, 'accordingly': 660, 'repeat': 2657, 'reboot': 2618, 'buzz': 963, '545': 480, 'giving': 1620, '08719839835': 152, 'mgs': 2155, '89123': 618, 'proze': 2561, 'norcorp': 2308, '07734396839': 28, 'ibh': 1786, 'nokia6600': 2301, 'gmw': 1624, 'connected': 1151, 'sdryb8i': 2767, '09061743811': 194, 'flowing': 1523, 'nevering': 2283, 'wining': 3421, '946': 631, 'followed': 1530, 'wither': 3429, '23f': 334, '23g': 335, 'gr8prizes': 1651, '8800': 605, 'psp': 2562, 'aiyar': 712, 'cupboard': 1206, 'pray': 2516, 'inshah': 1826, 'allah': 722, 'hu': 1773, 'preferably': 2517, 'citizen': 1081, 'navigate': 2269, 'choosing': 1073, 'require': 2667, 'guidance': 1674, 'doubt': 1328, 'earn': 1360, 'jay': 1872, '80086': 550, 'txttowin': 3249, '32000': 393, 'legitimat': 1974, 'efreefone': 1374, 'û_thanks': 3521, 'sun0819': 3033, 'posts': 2508, '08712400200': 98, 'subs16': 3013, '1win150ppmx3': 312, 'notified': 2317, 'marketing': 2101, '84122': 580, '08450542832': 63, '087104711148': 92, 'loving': 2053, 'forgiven': 1542, '09061221061': 187, '28days': 348, 'box177': 909, 'm221bp': 2072, '2yr': 378, 'warranty': 3373, 'på': 2574, '99': 635, 'nw': 2328, 'door': 1320, 'exp': 1430, '30apr': 383, 'unique': 3274, '1172': 262, '820554ad0a1705572711': 564, 'trueåác': 3215, 'ringtoneåá': 2700, 'wonderful': 3442, 'afternon': 694, 'interviews': 1838, 'passionate': 2404, 'arrow': 770, '89545': 619, '087187262701': 137, '50gbp': 467, 'mtmsg18': 2234, 'everybody': 1421, 'wun': 3465, 'hee': 1709, 'splashmobile': 2940, 'subscrition': 3021, 'genius': 1599, 'flaky': 1512, 'alertfrom': 718, 'jeri': 1877, 'stewartsize': 2977, '2kbsubject': 359, 'low': 2054, 'prescripiton': 2522, 'drvgsto': 1349, '123': 270, 'child': 1061, 'afraid': 691, 'dark': 1226, 'teenager': 3085, '169': 301, '6031': 489, '9pm': 640, 'shower': 2828, 'si': 2835, 'oreo': 2373, 'truffles': 3216, 'keeping': 1908, 'chances': 1030, 'csh11': 1199, '6days': 517, 'tsandcs': 3222, 'becausethey': 843, '09058098002': 182, 'pobox1': 2474, 'w14rg': 3348, 'addie': 678, 'tues': 3228, '86888': 595, 'subscribe6gbp': 3015, '3hrs': 411, 'txtstop': 3248, '09094100151': 233, 'cast': 1012, 'aom': 746, 'gbp5': 1594, 'box61': 918, 'm60': 2077, '1er': 309, 'ages': 702, 'letters': 1982, '09050001808': 164, 'm95': 2080, 'valid12hrs': 3311, 'voicemail': 3337, '08719181503': 150, 'cutest': 1217, 'request': 2665, 'melle': 2137, 'oru': 2378, 'minnaminunginte': 2170, 'nurungu': 2327, 'vettam': 3319, 'callertune': 980, 'callers': 979, 'inclusive': 1812, '08700469649': 69, 'box420': 915, 'smth': 2897, 'gotto': 1647, '220cm2': 333, '08719181513': 151, 'sch': 2759, 'dose': 1323, 'tablet': 3061, 'fever': 1484, 'connect': 1150, '09094646899': 235, 'biggest': 864, 'vu': 3345, 'bcm1896wc1n3xx': 836, 'add': 675, 'natalja': 2266, '440': 432, 'nat27081980': 2263, 'ma': 2081, 'fan': 1459, '07801543489': 33, 'latests': 1955, 'llc': 2015, 'ny': 2329, 'usa': 3296, 'mt': 2229, 'msgrcvd18': 2226, 'note': 2314, 'exposed': 1439, 'vomiting': 3339, 'dog': 1308, 'weather': 3386, 'cold': 1112, 'vitamin': 3332, 'smaller': 2880, 'capacity': 995, 'ex': 1424, '80488': 555, 'lolnice': 2029, 'fish': 1507, 'water': 3379, 'onwords': 2359, 'mtnl': 2236, 'mumbai': 2241, 'cann': 994, 'noncomittal': 2305, 'isnt': 1853, 'html': 1771, 'gbp4': 1593, 'mfl': 2154, 'lastest': 1951, 'stereophonics': 2975, 'marley': 2102, 'dizzee': 1299, 'racal': 2589, 'libertines': 1986, 'strokes': 3002, 'nookii': 2306, 'bookmark': 896, '82468': 567, 'b4u': 802, 'marsms': 2104, 'b4utele': 803, '08717168528': 126, 'pity': 2454, 'mood': 2209, 'suggestions': 3027, 'decided': 1248, 'invite': 1841, 'boytoy': 924, 'boy': 921, 'obedient': 2334, 'queen': 2579, 'thesmszone': 3126, 'lets': 1981, 'anonymous': 736, 'masked': 2105, 'potential': 2509, 'abuse': 652, 'cultures': 1202, 'sexiest': 2805, 'dirtiest': 1289, '89070': 615, 'salam': 2736, 'alaikkum': 715, 'pride': 2531, 'tea': 3080, 'qatar': 2575, 'rakhesh': 2593, 'respectful': 2672, 'regards': 2638, 'virgins': 3329, '4fil': 450, 'sexual': 2807, 'theirs': 3123, 'cute': 1216, '69911': 514, 'intrepid': 1839, 'duo': 1355, 'gent': 1600, '09064012160': 201, 'seeing': 2781, 'bein': 851, 'woah': 3436, 'realising': 2614, 'reasonable': 2617, 'okie': 2349, 'scared': 2757, 'applausestore': 750, 'monthlysubscription': 2207, 'max6': 2118, 'csc': 1198, 'def': 1253, 'swollen': 3057, 'glands': 1622, 'throat': 3139, 'ree': 2632, 'pod': 2486, '80182': 553, '08452810073': 65, 'entrepreneurs': 1404, '88877': 612, 'dare': 1225, 'sorting': 2916, 'competition': 1133, 'career': 1000, 'flyng': 1524, 'horo': 1755, 'aries': 764, '49': 447, 'bundle': 953, 'deals': 1245, 'avble': 790, 'mf': 2153, 'befor': 848, 'activities': 672, 'searching': 2770, 'talent': 3067, 'hf8': 1722, 'tickets': 3142, '8pm': 624, 'thurs': 3141, 'selling': 2787, 'tescos': 3100, '6hrs': 519, 'surgical': 3047, 'emergency': 1388, 'unfolds': 3270, 'ultimately': 3260, 'tor': 3184, 'motive': 2214, 'tui': 3230, 'achieve': 663, 'korli': 1930, 'subs': 3012, 'restrictions': 2679, 'buddys': 950, 'wonder': 3441, '83370': 573, 'trivia': 3211, '09061790126': 197, 'w8in': 3354, '4utxt': 460, 'channel': 1033, 'sections': 2777, 'clearer': 1092, 'running': 2725, 'admit': 682, 'mad': 2083, 'correction': 1166, 'reached': 2606, 'oic': 2345, 'hourish': 1763, 'banneduk': 823, 'g696ga': 1579, 'txtstar': 3247, 'family': 1458, 'responding': 2674, 'diwali': 1298, 'grumble': 1663, 'meetin': 2132, 'lei': 1976, 'ar': 756, '08714712379': 114, 'cashbin': 1010, '07099833605': 24, '9280114': 629, '08719181259': 149, 'xxxxx': 3481, 'bangbabes': 819, 'bangb': 818, 'internet': 1836, 'menu': 2144, '88066': 607, '28thfeb': 350, 'maturity': 2116, 'understanding': 3267, '5226': 474, 'hava': 1697, '1131': 260, '078': 32, 'recieve': 2627, 'teletext': 3089, 'pg': 2427, 'derek': 1267, 'taylor': 3074, 'walmart': 3362, 'mouse': 2216, 'desk': 1268, 'priscilla': 2534, 'blu': 886, 'november': 2319, '09061104276': 183, '75max': 532, 'hooch': 1748, 'toaday': 3162, 'splat': 2941, 'grazed': 1655, 'knees': 1924, 'stayed': 2971, 'boyfriend': 922, 'jokin': 1887, 'depends': 1266, 'father': 1473, 'rude': 2720, '01223585334': 5, '2c': 352, 'shagged': 2814, '8552': 589, '2end': 355, '3pound': 415, 'checked': 1053, 'spaces': 2924, 'embassy': 1386, 'spjanuary': 2938, 'lookatme': 2035, 'clip': 1094, '35p': 400, 'mmsto': 2182, '32323': 394, 'understood': 3268, 'acted': 667, 'hottest': 1761, 'wanting': 3369, 'sparkling': 2927, 'breaks': 934, '45': 439, '0121': 3, '2025050': 325, 'shortbreaks': 2825, 'org': 2374, '09058095107': 180, 's3xy': 2729, 'call09050000327': 973, 'thinl': 3133, 'role': 2707, 'sachin': 2731, 'standing': 2960, 'prob': 2541, 'ruin': 2721, 'thesis': 3125, 'nasty': 2261, 'cough': 1173, 'dry': 1350, '02072069400': 9, 'bx': 964, '526': 476, 'gamb': 1581, 'claire': 1085, 'havin': 1700, 'borin': 899, '09099725823': 236, 'minmoremobsemspobox45po139wa': 2169, 'select': 2783, 'benefits': 855, 'trained': 3196, 'advisors': 690, 'dialling': 1274, '402': 424, 'hvae': 1784, '09061701444': 189, 'acl03530150pm': 664, 'online': 2358, 'usf': 3302, 'vivek': 3333, 'multimedia': 2239, '09050001295': 163, 'a21': 643, 'deltomorrow': 1262, '08002888812': 51, 'guessing': 1673, 'flaked': 1511, 'jb': 1873, 'olowoyey': 2352, 'usc': 3297, 'edu': 1372, 'argentina': 763, 'secretary': 2774, 'blessing': 879, 'yar': 3487, 'poor': 2498, '3750': 404, '08712402050': 101, 'lines': 2000, '10ppm': 255, 'ag': 696, 'promo': 2554, 'creepy': 1190, 'smiled': 2886, 'answered': 740, 'gudnite': 1671, 'confirm': 1145, 'vava': 3316, 'playing': 2462, 'umma': 3262, 'draws': 1336, '09058094565': 176, 'worse': 3455, 'uses': 3301, 'stops': 2989, '08718738034': 147, 'eating': 1368, 'geeeee': 1597, 'tscs08714740323': 3224, '1winawk': 314, '50perweeksub': 469, 'congratulation': 1148, 'gauge': 1587, 'patty': 2408, '09058094599': 179, 'cabin': 969, 'boss': 901, 'apartment': 747, 'rcv': 2603, 'svc': 3050, '69988': 516, 'web2mobile': 3388, 'txt250': 3241, 'box139': 908, 'la32wu': 1936, 'txtx': 3250, '08712402578': 102, 'frog': 1567, 'axel': 799, 'akon': 714, 'eyed': 1444, 'topped': 3182, 'bubbletext': 948, 'renewal': 2651, 'tgxxrz': 3113, 'mini': 2166, 'snap': 2898, 'quizclub': 2586, '80122300p': 551, 'rwm': 2728, '08704050406': 81, 'rp176781': 2713, 'regalportfolio': 2636, '08717205546': 127, 'jsco': 1891, '2channel': 353, 'leadership': 1967, 'skills': 2861, 'psychic': 2563, 'ahmad': 705, 'adoring': 684, 'penis': 2416, 'story': 2994, '7548': 531, '4041': 425, 'studies': 3004, 'anyones': 744, 'spoiled': 2943, 'smartcall': 2882, '68866': 503, 'subscriptn3gbp': 3020, '08448714184': 61, 'landlineonly': 1943, '08718727870150ppm': 143, 'jeremiah': 1876, 'god': 1629, 'glad': 1621, 'xafter': 3470, 'cst': 1200, 'chg': 1058, 'agents': 701, 'experiment': 1435, '087147123779am': 113, 'arestaurant': 761, 'squid': 2955, 'dosomething': 1324, 'filthyguys': 1497, 'bitch': 872, 'slo': 2874, '4msgs': 454, 'jesus': 1878, 'gimme': 1615, 'lip': 2005, 'caveboy': 1016, 'nearly': 2271, 'banned': 822, 'ringing': 2695, 'houseful': 1766, 'screaming': 2765, 'brats': 929, 'pulling': 2567, '09071517866': 229, '150ppmpobox10183bhamb64xe': 293, 'sound': 2917, 'mad1': 2084, 'mad2': 2085, 'hold': 1741, 'spacebucks': 2923, 'purity': 2569, 'friendship': 1563, 'smiling': 2887, 'evng': 1423, 'musthu': 2248, '30th': 387, 'august': 787, 'areyouunique': 762, 'hostel': 1756}\n"
     ]
    }
   ],
   "source": [
    "# Fit the vectorizer to the training data\n",
    "vectorizer.fit(X_train)\n",
    "\n",
    "# Print the vocabulary\n",
    "print(vectorizer.vocabulary_)"
   ]
  },
  {
   "cell_type": "code",
   "execution_count": 203,
   "id": "a00f17da",
   "metadata": {
    "scrolled": true
   },
   "outputs": [
    {
     "data": {
      "text/plain": [
       "3526"
      ]
     },
     "execution_count": 203,
     "metadata": {},
     "output_type": "execute_result"
    }
   ],
   "source": [
    "# vocab size\n",
    "len(vectorizer.vocabulary_.keys())"
   ]
  },
  {
   "cell_type": "code",
   "execution_count": 204,
   "id": "7f0049bc",
   "metadata": {},
   "outputs": [
    {
     "data": {
      "text/plain": [
       "(1044, 3526)"
      ]
     },
     "execution_count": 204,
     "metadata": {},
     "output_type": "execute_result"
    }
   ],
   "source": [
    "# Fit and transform the training data\n",
    "X_train_counts = vectorizer.fit_transform(X_train)\n",
    "X_train_counts.shape"
   ]
  },
  {
   "cell_type": "code",
   "execution_count": 205,
   "id": "3cc9ffdb",
   "metadata": {},
   "outputs": [
    {
     "data": {
      "text/plain": [
       "(262, 3526)"
      ]
     },
     "execution_count": 205,
     "metadata": {},
     "output_type": "execute_result"
    }
   ],
   "source": [
    "# Transform the test data\n",
    "X_test_counts = vectorizer.transform(X_test)\n",
    "X_test_counts.shape"
   ]
  },
  {
   "cell_type": "code",
   "execution_count": null,
   "id": "32c7c0f2",
   "metadata": {},
   "outputs": [],
   "source": [
    "<b> Model fitting for Multinomial Naive Bayes </b>"
   ]
  },
  {
   "cell_type": "code",
   "execution_count": 206,
   "id": "b5498327",
   "metadata": {},
   "outputs": [
    {
     "name": "stdout",
     "output_type": "stream",
     "text": [
      "Accuracy: 0.9580152671755725\n"
     ]
    }
   ],
   "source": [
    "# Create an instance of the MultinomialNB class\n",
    "mnb = MultinomialNB()\n",
    "\n",
    "# Fit the model to the training data\n",
    "mnb.fit(X_train_counts, Y_train)\n",
    "\n",
    "# Make predictions on the test data\n",
    "Y_pred = mnb.predict(X_test_counts)\n",
    "\n",
    "# Calculate the accuracy of the model\n",
    "accuracy = accuracy_score(Y_test, Y_pred)\n",
    "print(\"Accuracy:\", accuracy)"
   ]
  },
  {
   "cell_type": "code",
   "execution_count": null,
   "id": "eadd684e",
   "metadata": {},
   "outputs": [],
   "source": [
    "<b> Model tuning using GridSearchCV </b>"
   ]
  },
  {
   "cell_type": "code",
   "execution_count": 207,
   "id": "8ce6c17f",
   "metadata": {
    "scrolled": true
   },
   "outputs": [
    {
     "name": "stdout",
     "output_type": "stream",
     "text": [
      "Best hyperparameters: {'alpha': 0.1}\n",
      "Accuracy: 0.9580152671755725\n"
     ]
    }
   ],
   "source": [
    "# Define a range of hyperparameter values to test\n",
    "param_grid = {'alpha': [0.1, 0.5, 1.0, 2.0, 5.0]}\n",
    "\n",
    "# Create an instance of the GridSearchCV class\n",
    "grid_search = GridSearchCV(MultinomialNB(), param_grid, cv=5)\n",
    "\n",
    "# Fit the grid search object to the training data\n",
    "grid_search.fit(X_train_counts, Y_train)\n",
    "\n",
    "# Print the best hyperparameters\n",
    "print(\"Best hyperparameters:\", grid_search.best_params_)\n",
    "\n",
    "# Get the best model\n",
    "best_model = grid_search.best_estimator_\n",
    "\n",
    "# Make predictions on the test data\n",
    "Y_pred = best_model.predict(X_test_counts)\n",
    "\n",
    "# Evaluate the model's performance\n",
    "accuracy = accuracy_score(Y_test, Y_pred)\n",
    "print(\"Accuracy:\", accuracy)"
   ]
  },
  {
   "cell_type": "markdown",
   "id": "82e3f7c1",
   "metadata": {},
   "source": [
    "<b> Performance metrices </b>"
   ]
  },
  {
   "cell_type": "code",
   "execution_count": 208,
   "id": "0e1d5e04",
   "metadata": {
    "scrolled": true
   },
   "outputs": [
    {
     "name": "stdout",
     "output_type": "stream",
     "text": [
      "              precision    recall  f1-score   support\n",
      "\n",
      "        Spam       0.98      0.94      0.96       136\n",
      "         Ham       0.94      0.98      0.96       126\n",
      "\n",
      "    accuracy                           0.96       262\n",
      "   macro avg       0.96      0.96      0.96       262\n",
      "weighted avg       0.96      0.96      0.96       262\n",
      "\n"
     ]
    }
   ],
   "source": [
    "print(classification_report(Y_test, Y_pred, target_names = ['Spam', 'Ham']))"
   ]
  },
  {
   "cell_type": "code",
   "execution_count": 209,
   "id": "14c2606b",
   "metadata": {},
   "outputs": [
    {
     "name": "stdout",
     "output_type": "stream",
     "text": [
      "Confusion Matrix: [[128   8]\n",
      " [  3 123]]\n"
     ]
    }
   ],
   "source": [
    "# Calculate the confusion matrix\n",
    "cm = confusion_matrix(Y_test, Y_pred)\n",
    "\n",
    "# Print the confusion matrix\n",
    "\n",
    "print(\"Confusion Matrix:\", cm)"
   ]
  },
  {
   "cell_type": "markdown",
   "id": "5fc1d54f",
   "metadata": {},
   "source": [
    "True positive (TP) , True negative (TN), False negative (FN), False positive (FP)"
   ]
  },
  {
   "cell_type": "code",
   "execution_count": 210,
   "id": "ca7e5b0e",
   "metadata": {},
   "outputs": [],
   "source": [
    "# Extract the values from the confusion matrix\n",
    "TN = cm[0][0]\n",
    "FP = cm[0][1]\n",
    "FN = cm[1][0]\n",
    "TP = cm[1][1]"
   ]
  },
  {
   "cell_type": "code",
   "execution_count": 211,
   "id": "3b2fc852",
   "metadata": {},
   "outputs": [
    {
     "name": "stdout",
     "output_type": "stream",
     "text": [
      "sensitivity 0.9761904761904762\n"
     ]
    }
   ],
   "source": [
    "sensitivity = TP / float(FN + TP)\n",
    "print(\"sensitivity\",sensitivity)"
   ]
  },
  {
   "cell_type": "code",
   "execution_count": 212,
   "id": "c9c01e57",
   "metadata": {},
   "outputs": [
    {
     "name": "stdout",
     "output_type": "stream",
     "text": [
      "specificity 0.9411764705882353\n"
     ]
    }
   ],
   "source": [
    "specificity = TN / float(TN + FP)\n",
    "print(\"specificity\",specificity)"
   ]
  },
  {
   "cell_type": "code",
   "execution_count": 213,
   "id": "0194558a",
   "metadata": {
    "scrolled": true
   },
   "outputs": [
    {
     "data": {
      "image/png": "[encoded data removed]",
      "text/plain": [
       "<Figure size 432x288 with 1 Axes>"
      ]
     },
     "metadata": {
      "needs_background": "light"
     },
     "output_type": "display_data"
    }
   ],
   "source": [
    "# Create a bar chart of the confusion matrix\n",
    "plt.bar([0, 1], [TN, FP], width=0.5, label='Predicted Non-Spam')\n",
    "plt.bar([2, 3], [FN, TP], width=0.5, label='Predicted Spam')\n",
    "plt.xticks([0.5, 2.5], ['Actual Non-Spam', 'Actual Spam'])\n",
    "plt.ylabel('Count')\n",
    "plt.legend()\n",
    "plt.show()"
   ]
  },
  {
   "cell_type": "code",
   "execution_count": null,
   "id": "74067d7c",
   "metadata": {},
   "outputs": [],
   "source": [
    "<b> Testing output </b>"
   ]
  },
  {
   "cell_type": "code",
   "execution_count": 215,
   "id": "e9911db2",
   "metadata": {},
   "outputs": [
    {
     "name": "stdout",
     "output_type": "stream",
     "text": [
      "Enter an SMS text message:\n",
      "\n",
      "Congratulations on your promotion! I'm so happy for you. Let's celebrate with dinner tonight.\n",
      "\n",
      "\u001b[1mThis message is not spam.\u001b[0m\n"
     ]
    }
   ],
   "source": [
    "# Prompt the user to enter an SMS text message\n",
    "text = input(\"Enter an SMS text message:\\n\\n\")\n",
    "\n",
    "print()\n",
    "\n",
    "# Vectorize the input data\n",
    "input_data_counts = vectorizer.transform([text])\n",
    "\n",
    "# Make predictions using the model\n",
    "prediction = mnb.predict(input_data_counts)\n",
    "\n",
    "# Print a message based on the predictions\n",
    "if prediction == 1:\n",
    "  print(\"\\033[1mThis message is spam.\\033[0m\")\n",
    "else:\n",
    "  print(\"\\033[1mThis message is not spam.\\033[0m\")"
   ]
  },
  {
   "cell_type": "code",
   "execution_count": null,
   "id": "d1b809e4",
   "metadata": {},
   "outputs": [],
   "source": []
  }
 ],
 "metadata": {
  "kernelspec": {
   "display_name": "Python 3 (ipykernel)",
   "language": "python",
   "name": "python3"
  },
  "language_info": {
   "codemirror_mode": {
    "name": "ipython",
    "version": 3
   },
   "file_extension": ".py",
   "mimetype": "text/x-python",
   "name": "python",
   "nbconvert_exporter": "python",
   "pygments_lexer": "ipython3",
   "version": "3.9.12"
  }
 },
 "nbformat": 4,
 "nbformat_minor": 5
}
